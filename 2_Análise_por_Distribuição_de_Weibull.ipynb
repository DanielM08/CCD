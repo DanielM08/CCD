{
  "nbformat": 4,
  "nbformat_minor": 0,
  "metadata": {
    "colab": {
      "name": "2 - Análise por Distribuição de Weibull.ipynb",
      "provenance": [],
      "collapsed_sections": []
    },
    "kernelspec": {
      "name": "python3",
      "display_name": "Python 3"
    },
    "accelerator": "GPU"
  },
  "cells": [
    {
      "cell_type": "markdown",
      "metadata": {
        "id": "mgraRrQSvw4v",
        "colab_type": "text"
      },
      "source": [
        "# Análise de Velocidade do Vento através da Distribuição de Weibull\n",
        "\n",
        "# Montando o ambiente para leitura dos dados"
      ]
    },
    {
      "cell_type": "code",
      "metadata": {
        "id": "LssxLxqsreR8",
        "colab_type": "code",
        "colab": {}
      },
      "source": [
        "#Montando Google Drive\n",
        "from google.colab import drive\n",
        "drive.mount('/content/gdrive')"
      ],
      "execution_count": 0,
      "outputs": []
    },
    {
      "cell_type": "code",
      "metadata": {
        "id": "v7qWwvZZrmko",
        "colab_type": "code",
        "outputId": "21ed77cb-a34d-4abb-f89e-75584cdb246a",
        "colab": {
          "base_uri": "https://localhost:8080/",
          "height": 272
        }
      },
      "source": [
        "#Instala a biblioteca weibull para análise de distribuição de Weibull\n",
        "!pip install weibull"
      ],
      "execution_count": 0,
      "outputs": [
        {
          "output_type": "stream",
          "text": [
            "Collecting weibull\n",
            "  Downloading https://files.pythonhosted.org/packages/bf/57/303949da738f3a9ea3148bc7dd1c6f92c9be0743e762329544286a536637/weibull-0.1.2-py3-none-any.whl\n",
            "Requirement already satisfied: matplotlib>=2.0 in /usr/local/lib/python3.6/dist-packages (from weibull) (3.1.1)\n",
            "Requirement already satisfied: pandas>=0.20.0 in /usr/local/lib/python3.6/dist-packages (from weibull) (0.25.2)\n",
            "Requirement already satisfied: numpy>=1.0 in /usr/local/lib/python3.6/dist-packages (from weibull) (1.17.3)\n",
            "Requirement already satisfied: scipy>=1.0.0 in /usr/local/lib/python3.6/dist-packages (from weibull) (1.3.1)\n",
            "Requirement already satisfied: cycler>=0.10 in /usr/local/lib/python3.6/dist-packages (from matplotlib>=2.0->weibull) (0.10.0)\n",
            "Requirement already satisfied: pyparsing!=2.0.4,!=2.1.2,!=2.1.6,>=2.0.1 in /usr/local/lib/python3.6/dist-packages (from matplotlib>=2.0->weibull) (2.4.2)\n",
            "Requirement already satisfied: kiwisolver>=1.0.1 in /usr/local/lib/python3.6/dist-packages (from matplotlib>=2.0->weibull) (1.1.0)\n",
            "Requirement already satisfied: python-dateutil>=2.1 in /usr/local/lib/python3.6/dist-packages (from matplotlib>=2.0->weibull) (2.6.1)\n",
            "Requirement already satisfied: pytz>=2017.2 in /usr/local/lib/python3.6/dist-packages (from pandas>=0.20.0->weibull) (2018.9)\n",
            "Requirement already satisfied: six in /usr/local/lib/python3.6/dist-packages (from cycler>=0.10->matplotlib>=2.0->weibull) (1.12.0)\n",
            "Requirement already satisfied: setuptools in /usr/local/lib/python3.6/dist-packages (from kiwisolver>=1.0.1->matplotlib>=2.0->weibull) (41.4.0)\n",
            "Installing collected packages: weibull\n",
            "Successfully installed weibull-0.1.2\n"
          ],
          "name": "stdout"
        }
      ]
    },
    {
      "cell_type": "code",
      "metadata": {
        "id": "FwZ1gtUhrmuW",
        "colab_type": "code",
        "colab": {}
      },
      "source": [
        "path = 'gdrive/My Drive/CCD/'"
      ],
      "execution_count": 0,
      "outputs": []
    },
    {
      "cell_type": "code",
      "metadata": {
        "id": "iTvwoADArtED",
        "colab_type": "code",
        "colab": {}
      },
      "source": [
        "import pandas as pd\n",
        "import numpy as np\n",
        "import matplotlib.pyplot as plt\n",
        "%matplotlib inline\n",
        "import weibull"
      ],
      "execution_count": 0,
      "outputs": []
    },
    {
      "cell_type": "code",
      "metadata": {
        "id": "WgFP2htJrvTF",
        "colab_type": "code",
        "colab": {}
      },
      "source": [
        "#Leitura do dataframe contendo as medições de velocidade do vento apenas\n",
        "vento = pd.read_csv(path + 'Clip/wind_only.csv').drop(columns = 'Unnamed: 0')"
      ],
      "execution_count": 0,
      "outputs": []
    },
    {
      "cell_type": "code",
      "metadata": {
        "id": "ZuQlXR6VM4kw",
        "colab_type": "code",
        "colab": {}
      },
      "source": [
        "#Leitura do dataframe contendo metadados\n",
        "meta = pd.read_csv(path + 'bdmep_meta.csv')"
      ],
      "execution_count": 0,
      "outputs": []
    },
    {
      "cell_type": "code",
      "metadata": {
        "id": "LVsRHLt17E9R",
        "colab_type": "code",
        "outputId": "6a694d10-b2ec-4c69-ac93-a9bd07f89ff7",
        "colab": {
          "base_uri": "https://localhost:8080/",
          "height": 204
        }
      },
      "source": [
        "meta.head()"
      ],
      "execution_count": 0,
      "outputs": [
        {
          "output_type": "execute_result",
          "data": {
            "text/html": [
              "<div>\n",
              "<style scoped>\n",
              "    .dataframe tbody tr th:only-of-type {\n",
              "        vertical-align: middle;\n",
              "    }\n",
              "\n",
              "    .dataframe tbody tr th {\n",
              "        vertical-align: top;\n",
              "    }\n",
              "\n",
              "    .dataframe thead th {\n",
              "        text-align: right;\n",
              "    }\n",
              "</style>\n",
              "<table border=\"1\" class=\"dataframe\">\n",
              "  <thead>\n",
              "    <tr style=\"text-align: right;\">\n",
              "      <th></th>\n",
              "      <th>id</th>\n",
              "      <th>lon</th>\n",
              "      <th>lat</th>\n",
              "      <th>alt</th>\n",
              "      <th>name</th>\n",
              "      <th>state</th>\n",
              "      <th>uf</th>\n",
              "      <th>time_zone</th>\n",
              "      <th>offset_utc</th>\n",
              "      <th>time_zone.1</th>\n",
              "      <th>offset_utc.1</th>\n",
              "    </tr>\n",
              "  </thead>\n",
              "  <tbody>\n",
              "    <tr>\n",
              "      <th>0</th>\n",
              "      <td>83010</td>\n",
              "      <td>-68.733333</td>\n",
              "      <td>-11.016667</td>\n",
              "      <td>260.00</td>\n",
              "      <td>Brasiléia</td>\n",
              "      <td>Acre</td>\n",
              "      <td>AC</td>\n",
              "      <td>America/Rio_Branco</td>\n",
              "      <td>-5</td>\n",
              "      <td>America/Rio_Branco</td>\n",
              "      <td>-5</td>\n",
              "    </tr>\n",
              "    <tr>\n",
              "      <th>1</th>\n",
              "      <td>82704</td>\n",
              "      <td>-72.666667</td>\n",
              "      <td>-7.633333</td>\n",
              "      <td>170.00</td>\n",
              "      <td>Cruzeiro do Sul</td>\n",
              "      <td>Acre</td>\n",
              "      <td>AC</td>\n",
              "      <td>America/Rio_Branco</td>\n",
              "      <td>-5</td>\n",
              "      <td>America/Rio_Branco</td>\n",
              "      <td>-5</td>\n",
              "    </tr>\n",
              "    <tr>\n",
              "      <th>2</th>\n",
              "      <td>82915</td>\n",
              "      <td>-67.800000</td>\n",
              "      <td>-9.966667</td>\n",
              "      <td>160.00</td>\n",
              "      <td>Rio Branco</td>\n",
              "      <td>Acre</td>\n",
              "      <td>AC</td>\n",
              "      <td>America/Rio_Branco</td>\n",
              "      <td>-5</td>\n",
              "      <td>America/Rio_Branco</td>\n",
              "      <td>-5</td>\n",
              "    </tr>\n",
              "    <tr>\n",
              "      <th>3</th>\n",
              "      <td>82807</td>\n",
              "      <td>-70.766667</td>\n",
              "      <td>-8.166667</td>\n",
              "      <td>190.00</td>\n",
              "      <td>Tarauacá</td>\n",
              "      <td>Acre</td>\n",
              "      <td>AC</td>\n",
              "      <td>America/Rio_Branco</td>\n",
              "      <td>-5</td>\n",
              "      <td>America/Rio_Branco</td>\n",
              "      <td>-5</td>\n",
              "    </tr>\n",
              "    <tr>\n",
              "      <th>4</th>\n",
              "      <td>83098</td>\n",
              "      <td>-36.166667</td>\n",
              "      <td>-10.150000</td>\n",
              "      <td>56.13</td>\n",
              "      <td>Coruripe</td>\n",
              "      <td>Alagoas</td>\n",
              "      <td>AL</td>\n",
              "      <td>America/Maceio</td>\n",
              "      <td>-3</td>\n",
              "      <td>America/Maceio</td>\n",
              "      <td>-3</td>\n",
              "    </tr>\n",
              "  </tbody>\n",
              "</table>\n",
              "</div>"
            ],
            "text/plain": [
              "      id        lon        lat  ...  offset_utc         time_zone.1 offset_utc.1\n",
              "0  83010 -68.733333 -11.016667  ...          -5  America/Rio_Branco           -5\n",
              "1  82704 -72.666667  -7.633333  ...          -5  America/Rio_Branco           -5\n",
              "2  82915 -67.800000  -9.966667  ...          -5  America/Rio_Branco           -5\n",
              "3  82807 -70.766667  -8.166667  ...          -5  America/Rio_Branco           -5\n",
              "4  83098 -36.166667 -10.150000  ...          -3      America/Maceio           -3\n",
              "\n",
              "[5 rows x 11 columns]"
            ]
          },
          "metadata": {
            "tags": []
          },
          "execution_count": 8
        }
      ]
    },
    {
      "cell_type": "code",
      "metadata": {
        "id": "BJcSQayxN5Yr",
        "colab_type": "code",
        "colab": {}
      },
      "source": [
        "# Cria novas colunas no dataframe para serem substituidas mais a frente\n",
        "meta['shape'] = 0\n",
        "meta['scale'] = 0\n",
        "meta['vmp'] = 0\n",
        "meta['vmaxE'] = 0\n",
        "meta['p_vmp'] = 0\n",
        "meta['p_vmaxE'] = 0\n",
        "meta['w_mean'] = 0\n",
        "meta['w_median'] = 0\n",
        "meta['mean'] = 0\n",
        "meta['median'] = 0"
      ],
      "execution_count": 0,
      "outputs": []
    },
    {
      "cell_type": "markdown",
      "metadata": {
        "id": "PzazsgRUy-_J",
        "colab_type": "text"
      },
      "source": [
        "# Calculando parâmetros para os dados"
      ]
    },
    {
      "cell_type": "code",
      "metadata": {
        "id": "Fm2MkS6s6jcz",
        "colab_type": "code",
        "colab": {}
      },
      "source": [
        "def prob_weibull(v, shape, scale):\n",
        "  \n",
        "  \"\"\"\n",
        "  Função que calcula a respectiva probabilidade de valores menores do que dada\n",
        "  velocidade do vento (v em m/s) em função dos parâmetros da distribuição de\n",
        "  Weibull\n",
        "  \"\"\"\n",
        "  \n",
        "  k = shape\n",
        "  c = scale\n",
        "  \n",
        "  prob = (k/c) * ((v/c) ** (k-1)) * np.exp(-((v/c)**k))\n",
        "  \n",
        "  return prob\n",
        "\n",
        "def most_probable_wspeed(shape, scale):\n",
        "  \n",
        "  \"\"\"\n",
        "  Função que calcula a velocidade do vento mais provável em função dos \n",
        "  parâmetros da distribuição de Weibull\n",
        "  \"\"\"\n",
        "  \n",
        "  k = shape\n",
        "  c = scale\n",
        "  \n",
        "  aux1 = np.power(((k -1) / k), (1/k))\n",
        "  \n",
        "  vmp = c * aux1\n",
        "  \n",
        "  return vmp\n",
        "\n",
        "def most_energy_wspeed(shape, scale):\n",
        "  \n",
        "  \"\"\"\n",
        "  Função que calcula a velocidade do vento mais energética em função dos \n",
        "  parâmetros da distribuição de Weibull\n",
        "  \"\"\"\n",
        "  \n",
        "  k = shape\n",
        "  c = scale\n",
        "  \n",
        "  vmaxE = c * (( (k + 2) / k) ** (1/k))\n",
        "  \n",
        "  return vmaxE"
      ],
      "execution_count": 0,
      "outputs": []
    },
    {
      "cell_type": "code",
      "metadata": {
        "id": "sIKwXUiQOOQR",
        "colab_type": "code",
        "outputId": "04551eee-927a-4b5a-d319-1f00dae81d10",
        "colab": {
          "base_uri": "https://localhost:8080/",
          "height": 34
        }
      },
      "source": [
        "meta.shape"
      ],
      "execution_count": 0,
      "outputs": [
        {
          "output_type": "execute_result",
          "data": {
            "text/plain": [
              "(389, 21)"
            ]
          },
          "metadata": {
            "tags": []
          },
          "execution_count": 10
        }
      ]
    },
    {
      "cell_type": "code",
      "metadata": {
        "id": "DzTkRb91skFt",
        "colab_type": "code",
        "outputId": "35196d18-6e08-40d0-a17f-cc8ad16e8e13",
        "colab": {
          "base_uri": "https://localhost:8080/",
          "height": 1000
        }
      },
      "source": [
        "# O código a seguir irá calcular diversos parâmetros em função da distribuição\n",
        "# de Weibull para dado conjunto de medições de velocidade do vento\n",
        "\n",
        "count = 1 # Contador para saber quantas cidades já foram analisadas\n",
        "\n",
        "for cidade in vento['name'].unique():  \n",
        "  \n",
        "  try:\n",
        "    \n",
        "    temp = vento[vento['name'] == cidade].ws # Apenas dados de velocidade do vento\n",
        "    temp = temp[temp != 0].dropna() # Elimina NaNs e valores iguais a zero\n",
        "    \n",
        "    # O zero é eliminado pois é necessário para a análise de Weibull\n",
        "  \n",
        "    print(f'Dados da cidade #{count}: {cidade} com {len(temp)} observações')\n",
        "  \n",
        "    analise = weibull.Analysis(temp) # Prepara os dados para análise\n",
        "  \n",
        "    analise.fit(method = 'mle') # Encontra os parâmetros através do método\n",
        "                                # Maximum Likelihood Estimation (mle)\n",
        "    shape = analise.beta # Parâmetro de forma (k ou beta)\n",
        "    scale = analise.eta # Parâmetro de escala (c ou eta)\n",
        "    \n",
        "    vmp = most_probable_wspeed(shape, scale)  # Velocidade mais provável\n",
        "    vmaxE = most_energy_wspeed(shape, scale) # Velocidade mais energética\n",
        "  \n",
        "    p_vmp = prob_weibull(vmp, shape, scale) # Probabilidade para vmp\n",
        "    p_vmaxE = prob_weibull(vmaxE, shape, scale) # Probabilidade para vmaxE\n",
        "  \n",
        "    wmean = analise.mean # Valor médio segundo distribuição de Weibull\n",
        "    wmedian = analise.median # Mediana segunda distribuição de Weibull\n",
        "    \n",
        "    mean = np.mean(temp) # Valor médio comum para os dados\n",
        "    median = np.median(temp) # Mediana comum para os dados\n",
        "  \n",
        "    # O código abaixo irá colocar os valores calculados acima nas suas respectivas\n",
        "    # cidades dentro do dataframe que continha os metadados\n",
        "       \n",
        "    meta['shape'] = np.where(meta['name'] == cidade, shape, meta['shape'])\n",
        "    meta['scale'] = np.where(meta['name'] == cidade, scale, meta['scale'])\n",
        "    meta['vmp'] = np.where(meta['name'] == cidade, vmp, meta['vmp'])\n",
        "    meta['vmaxE'] = np.where(meta['name'] == cidade, vmaxE, meta['vmaxE'])\n",
        "    meta['p_vmp'] = np.where(meta['name'] == cidade, p_vmp, meta['p_vmp'])\n",
        "    meta['p_vmaxE'] = np.where(meta['name'] == cidade, p_vmaxE, meta['p_vmaxE'])\n",
        "    meta['w_mean'] = np.where(meta['name'] == cidade, wmean, meta['w_mean'])\n",
        "    meta['w_median'] = np.where(meta['name'] == cidade, wmedian, meta['w_median'])\n",
        "    meta['mean'] = np.where(meta['name'] == cidade, mean, meta['mean'])\n",
        "    meta['median'] = np.where(meta['name'] == cidade, median, meta['median'])\n",
        "  \n",
        "  except:\n",
        "    \n",
        "    # Quando não há observações de velocidade do vento, substituir\n",
        "    # os valores que seriam calculados acima por NaNs, os quais serão\n",
        "    # removidos posteriormente\n",
        "    \n",
        "    print(f'Cidade #{count} {cidade} com erros, shape: {temp.shape}.')\n",
        "    \n",
        "    meta['shape'] = np.where(meta['name'] == cidade, np.nan, meta['shape'])\n",
        "    meta['scale'] = np.where(meta['name'] == cidade, np.nan, meta['scale'])\n",
        "    meta['vmp'] = np.where(meta['name'] == cidade, np.nan, meta['vmp'])\n",
        "    meta['vmaxE'] = np.where(meta['name'] == cidade, np.nan, meta['vmaxE'])\n",
        "    meta['p_vmp'] = np.where(meta['name'] == cidade, np.nan, meta['p_vmp'])\n",
        "    meta['p_vmaxE'] = np.where(meta['name'] == cidade, np.nan, meta['p_vmaxE'])\n",
        "    meta['w_mean'] = np.where(meta['name'] == cidade, np.nan, meta['w_mean'])\n",
        "    meta['w_median'] = np.where(meta['name'] == cidade, np.nan, meta['w_median'])\n",
        "    meta['mean'] = np.where(meta['name'] == cidade, np.nan, meta['mean'])\n",
        "    meta['median'] = np.where(meta['name'] == cidade, np.nan, meta['median'])\n",
        "  \n",
        "  count += 1 # Contador para saber quantas cidades já foram analisadas"
      ],
      "execution_count": 0,
      "outputs": [
        {
          "output_type": "stream",
          "text": [
            "Dados da cidade #1: Brasiléia com 1274 observações\n",
            "Dados da cidade #2: Cruzeiro do Sul com 8149 observações\n",
            "Dados da cidade #3: Rio Branco com 14628 observações\n",
            "Dados da cidade #4: Tarauacá com 12974 observações\n",
            "Dados da cidade #5: Coruripe com 4281 observações\n",
            "Dados da cidade #6: Maceió com 11638 observações\n",
            "Dados da cidade #7: Mata Grande com 3652 observações\n",
            "Dados da cidade #8: Palmeira dos Índios com 12476 observações\n",
            "Dados da cidade #9: Pão de Acuçar com 9255 observações\n",
            "Dados da cidade #10: Porto de Pedras com 11947 observações\n",
            "Dados da cidade #11: Barcelos com 18261 observações\n",
            "Dados da cidade #12: Benjamin Constant com 16365 observações\n",
            "Dados da cidade #13: Carauari com 6225 observações\n",
            "Dados da cidade #14: Coari com 16116 observações\n",
            "Dados da cidade #15: Codajás com 13936 observações\n",
            "Dados da cidade #16: Eirunepé com 3556 observações\n",
            "Dados da cidade #17: Fonte Boa com 16748 observações\n",
            "Dados da cidade #18: Humaitá com 5624 observações\n",
            "Dados da cidade #19: Itacoatiara com 14022 observações\n",
            "Dados da cidade #20: Lábrea com 13650 observações\n",
            "Dados da cidade #21: Manaus com 18980 observações\n",
            "Dados da cidade #22: Manicoré com 18206 observações\n",
            "Dados da cidade #23: Paricachoeira com 6205 observações\n",
            "Dados da cidade #24: Parintins com 16012 observações\n",
            "Dados da cidade #25: Rio Içana com 5265 observações\n",
            "Dados da cidade #26: S. G. da Cachoeira(Uaupés) com 18727 observações\n",
            "Dados da cidade #27: Santa Izabel do Rio Negro com 6070 observações\n",
            "Dados da cidade #28: Taracuá com 6163 observações\n",
            "Dados da cidade #29: Tefé com 14209 observações\n",
            "Dados da cidade #30: Cupixi com 3490 observações\n",
            "Dados da cidade #31: Macapá com 17511 observações\n",
            "Dados da cidade #32: Porto Platon com 8005 observações\n",
            "Dados da cidade #33: Alagoinhas com 15396 observações\n",
            "Dados da cidade #34: Barra com 10156 observações\n",
            "Dados da cidade #35: Barreiras com 16948 observações\n",
            "Dados da cidade #36: Bom Jesus da Lapa com 14048 observações\n",
            "Dados da cidade #37: Caetité com 12902 observações\n",
            "Dados da cidade #38: Caravelas com 16300 observações\n",
            "Dados da cidade #39: Cipó com 14716 observações\n",
            "Dados da cidade #40: Correntina com 9137 observações\n",
            "Dados da cidade #41: Cruz das Almas com 8885 observações\n",
            "Dados da cidade #42: Feira de Santana com 6622 observações\n",
            "Dados da cidade #43: Ilhéus com 9103 observações\n",
            "Dados da cidade #44: Irecê com 10858 observações\n",
            "Dados da cidade #45: Itaberaba com 11499 observações\n",
            "Dados da cidade #46: Itaparica com 3501 observações\n",
            "Dados da cidade #47: Itiruçu (Jaguaquara) com 13759 observações\n",
            "Dados da cidade #48: Jacobina com 14437 observações\n",
            "Dados da cidade #49: Lençóis com 16407 observações\n",
            "Dados da cidade #50: Mata de São João com 3108 observações\n",
            "Dados da cidade #51: Monte Santo com 13925 observações\n",
            "Dados da cidade #52: Morro do Chapéu com 15640 observações\n",
            "Dados da cidade #53: Paratinga com 1170 observações\n",
            "Dados da cidade #54: Paulo Afonso com 14745 observações\n",
            "Dados da cidade #55: Remanso com 13120 observações\n",
            "Dados da cidade #56: Rio Real com 1014 observações\n",
            "Dados da cidade #57: Salvador (Ondina) com 16929 observações\n",
            "Dados da cidade #58: Santa Rita de Cássia (Ibipetuba) com 11835 observações\n",
            "Dados da cidade #59: São Francisco do Conde com 3583 observações\n",
            "Dados da cidade #60: Serrinha com 11670 observações\n",
            "Dados da cidade #61: Acaraú com 7487 observações\n",
            "Dados da cidade #62: Aracati com 2991 observações\n",
            "Dados da cidade #63: Barbalha com 12097 observações\n",
            "Dados da cidade #64: Campos Sales com 13254 observações\n",
            "Dados da cidade #65: Crateús com 13816 observações\n",
            "Dados da cidade #66: Fortaleza com 15366 observações\n",
            "Dados da cidade #67: Guaramiranga com 13332 observações\n",
            "Dados da cidade #68: Iguatu com 13946 observações\n",
            "Dados da cidade #69: Jaguaruana com 11066 observações\n",
            "Dados da cidade #70: Juazeiro do Norte com 3445 observações\n",
            "Dados da cidade #71: Morada Nova com 17639 observações\n",
            "Dados da cidade #72: Quixeramobim com 14338 observações\n",
            "Dados da cidade #73: Sobral com 13458 observações\n",
            "Dados da cidade #74: Tauá com 12881 observações\n",
            "Dados da cidade #75: Brasília com 19809 observações\n",
            "Dados da cidade #76: Alfredo Chaves com 0 observações\n",
            "Cidade #76 Alfredo Chaves com erros, shape: (0,).\n",
            "Dados da cidade #77: Aracruz com 0 observações\n",
            "Cidade #77 Aracruz com erros, shape: (0,).\n",
            "Dados da cidade #78: Boa Esperança com 0 observações\n",
            "Cidade #78 Boa Esperança com erros, shape: (0,).\n",
            "Dados da cidade #79: Cachoeiro do Itapemirim com 6922 observações\n",
            "Dados da cidade #80: Ecoporanga com 0 observações\n",
            "Cidade #80 Ecoporanga com erros, shape: (0,).\n"
          ],
          "name": "stdout"
        },
        {
          "output_type": "stream",
          "text": [
            "WARNING:weibull.weibull:the linear regression method is likely to yield better results with 1 data points\n"
          ],
          "name": "stderr"
        },
        {
          "output_type": "stream",
          "text": [
            "Dados da cidade #81: Itarana com 1 observações\n",
            "Cidade #81 Itarana com erros, shape: (1,).\n"
          ],
          "name": "stdout"
        },
        {
          "output_type": "stream",
          "text": [
            "/usr/local/lib/python3.6/dist-packages/weibull/weibull.py:160: RuntimeWarning: invalid value encountered in double_scalars\n",
            "  / (dtf_all.size - 1)) ** -0.5\n"
          ],
          "name": "stderr"
        },
        {
          "output_type": "stream",
          "text": [
            "Dados da cidade #82: Linhares com 10388 observações\n"
          ],
          "name": "stdout"
        },
        {
          "output_type": "stream",
          "text": [
            "WARNING:weibull.weibull:the linear regression method is likely to yield better results with 7 data points\n"
          ],
          "name": "stderr"
        },
        {
          "output_type": "stream",
          "text": [
            "Dados da cidade #83: Muniz Freire com 7 observações\n",
            "Dados da cidade #84: São Mateus com 6796 observações\n",
            "Dados da cidade #85: Venda Nova com 618 observações\n",
            "Dados da cidade #86: Vitória com 13757 observações\n",
            "Dados da cidade #87: Aragarças com 13394 observações\n",
            "Dados da cidade #88: Catalão com 20036 observações\n",
            "Dados da cidade #89: Formosa com 16574 observações\n",
            "Dados da cidade #90: Goianésia com 5406 observações\n",
            "Dados da cidade #91: Goiânia com 16731 observações\n",
            "Dados da cidade #92: Goiás com 18268 observações\n",
            "Dados da cidade #93: Ipameri com 14678 observações\n",
            "Dados da cidade #94: Jataí com 8598 observações\n",
            "Dados da cidade #95: Mineiros com 3596 observações\n",
            "Dados da cidade #96: Pirenópolis com 14673 observações\n",
            "Dados da cidade #97: Posse com 12134 observações\n",
            "Dados da cidade #98: Rio Verde com 12700 observações\n",
            "Dados da cidade #99: Alto Parnaíba com 12448 observações\n",
            "Dados da cidade #100: Bacabal com 12233 observações\n",
            "Dados da cidade #101: Balsas com 13064 observações\n",
            "Dados da cidade #102: Barra do Corda com 16336 observações\n",
            "Dados da cidade #103: Carolina com 13464 observações\n",
            "Dados da cidade #104: Caxias com 12880 observações\n",
            "Dados da cidade #105: Chapadinha com 11693 observações\n",
            "Dados da cidade #106: Colinas com 8018 observações\n",
            "Dados da cidade #107: Grajaú com 5403 observações\n",
            "Dados da cidade #108: Imperatriz com 14858 observações\n",
            "Dados da cidade #109: São Luis com 11061 observações\n",
            "Dados da cidade #110: Turiaçu com 13383 observações\n",
            "Dados da cidade #111: Zé Doca com 11464 observações\n",
            "Dados da cidade #112: Aimorés com 13887 observações\n",
            "Dados da cidade #113: Araçuaí com 18429 observações\n",
            "Dados da cidade #114: Araxá com 16759 observações\n",
            "Dados da cidade #115: Arinos com 12730 observações\n",
            "Dados da cidade #116: Bambuí com 14820 observações\n",
            "Dados da cidade #117: Barbacena com 18163 observações\n",
            "Dados da cidade #118: Belo Horizonte com 19117 observações\n",
            "Dados da cidade #119: Caldas (P. de Caldas) com 13130 observações\n",
            "Dados da cidade #120: Cambuquira com 6336 observações\n",
            "Dados da cidade #121: Caparaó com 11186 observações\n",
            "Dados da cidade #122: Capinópolis com 14858 observações\n",
            "Dados da cidade #123: Caratinga com 16197 observações\n",
            "Dados da cidade #124: Cataguases com 5492 observações\n",
            "Dados da cidade #125: Caxambu com 4532 observações\n",
            "Dados da cidade #126: Conceição do Mato Dentro com 17199 observações\n",
            "Dados da cidade #127: Coronel Pacheco com 12382 observações\n",
            "Dados da cidade #128: Curvelo com 17732 observações\n",
            "Dados da cidade #129: Diamantina com 14146 observações\n",
            "Dados da cidade #130: Espinosa com 13889 observações\n",
            "Dados da cidade #131: Fazenda Monte Alegre com 5426 observações\n",
            "Dados da cidade #132: Florestal com 13700 observações\n",
            "Dados da cidade #133: Formoso com 12006 observações\n",
            "Dados da cidade #134: Frutal com 14331 observações\n",
            "Dados da cidade #135: Governador Valadares com 10976 observações\n",
            "Dados da cidade #136: Ibirité com 11781 observações\n",
            "Dados da cidade #137: Itabira com 41 observações\n",
            "Dados da cidade #138: Itamarandiba com 16911 observações\n",
            "Dados da cidade #139: Itambacuri com 2005 observações\n",
            "Dados da cidade #140: Januária com 14421 observações\n",
            "Dados da cidade #141: João Monlevade com 11385 observações\n",
            "Dados da cidade #142: João Pinheiro com 16324 observações\n",
            "Dados da cidade #143: Juiz de Fora com 18857 observações\n",
            "Dados da cidade #144: Lambari com 1717 observações\n",
            "Dados da cidade #145: Lavras com 18135 observações\n",
            "Dados da cidade #146: Lavras-ESAL. com 7490 observações\n",
            "Dados da cidade #147: Machado com 17615 observações\n",
            "Dados da cidade #148: Maria da Fé com 8975 observações\n",
            "Dados da cidade #149: Minas Novas com 6316 observações\n",
            "Dados da cidade #150: Mocambinho  com 10670 observações\n",
            "Dados da cidade #151: Monte Azul com 10452 observações\n",
            "Dados da cidade #152: Montes Claros com 14244 observações\n",
            "Dados da cidade #153: Muriaé com 3441 observações\n",
            "Dados da cidade #154: Oliveira com 14241 observações\n",
            "Dados da cidade #155: Ouro Fino com 3208 observações\n",
            "Dados da cidade #156: Paracatu com 14188 observações\n",
            "Dados da cidade #157: Passa Quatro com 15086 observações\n",
            "Dados da cidade #158: Patos de Minas com 17814 observações\n",
            "Dados da cidade #159: Patrocínio com 5334 observações\n",
            "Dados da cidade #160: Pedra Azul com 14432 observações\n",
            "Dados da cidade #161: Pirapora com 16164 observações\n",
            "Dados da cidade #162: Pompeu com 12774 observações\n",
            "Dados da cidade #163: Salinas com 14499 observações\n",
            "Dados da cidade #164: São Francisco com 6957 observações\n",
            "Dados da cidade #165: São João del-Rei com 13170 observações\n",
            "Dados da cidade #166: São Lourenço com 16454 observações\n",
            "Dados da cidade #167: São Sebas. do Paraíso com 8859 observações\n",
            "Dados da cidade #168: Sete Lagoas com 16382 observações\n",
            "Dados da cidade #169: Teófilo Otoni com 15096 observações\n",
            "Dados da cidade #170: Uberaba com 16069 observações\n",
            "Dados da cidade #171: Unaí com 12641 observações\n",
            "Dados da cidade #172: Usiminas com 7932 observações\n",
            "Dados da cidade #173: Viçosa com 14412 observações\n",
            "Dados da cidade #174:  Água Clara com 1777 observações\n",
            "Dados da cidade #175: Aquidauana com 7807 observações\n",
            "Dados da cidade #176: Campo Grande com 11794 observações\n",
            "Dados da cidade #177: Corumbá  com 10980 observações\n",
            "Dados da cidade #178: Coxim com 4329 observações\n",
            "Dados da cidade #179: Dourados com 6749 observações\n",
            "Dados da cidade #180: Ivinhema com 12888 observações\n",
            "Dados da cidade #181: Paranaíba com 13539 observações\n",
            "Dados da cidade #182: Ponta Porã com 13972 observações\n",
            "Dados da cidade #183: Três Lagoas com 12494 observações\n",
            "Dados da cidade #184: Cáceres com 12362 observações\n",
            "Dados da cidade #185: Cuiabá com 14417 observações\n",
            "Dados da cidade #186: Diamantino com 12823 observações\n",
            "Dados da cidade #187: Gleba Celeste com 11799 observações\n",
            "Dados da cidade #188: Meruri com 4941 observações\n",
            "Dados da cidade #189: Poxoréo com 7380 observações\n",
            "Dados da cidade #190: Rosário do Oeste com 0 observações\n",
            "Cidade #190 Rosário do Oeste com erros, shape: (0,).\n",
            "Dados da cidade #191: Sangradouro com 3717 observações\n",
            "Dados da cidade #192: Utiariti com 1757 observações\n",
            "Dados da cidade #193: Altamira com 14823 observações\n",
            "Dados da cidade #194: Alto Tapajós com 4847 observações\n",
            "Dados da cidade #195: Belém com 19260 observações\n",
            "Dados da cidade #196: Belterra com 16840 observações\n",
            "Dados da cidade #197: Breves com 14659 observações\n",
            "Dados da cidade #198: Cametá com 17220 observações\n",
            "Dados da cidade #199: Conceição do Araguaia com 17293 observações\n",
            "Dados da cidade #200: Itaituba com 16999 observações\n",
            "Dados da cidade #201: Marabá com 14327 observações\n",
            "Dados da cidade #202: Monte Alegre com 16084 observações\n",
            "Dados da cidade #203: Óbidos com 14635 observações\n",
            "Dados da cidade #204: Porto de Moz com 17584 observações\n",
            "Dados da cidade #205: Santarém (Taperinha) com 7135 observações\n",
            "Dados da cidade #206: São Félix do Xingu com 12974 observações\n",
            "Dados da cidade #207: Soure com 19782 observações\n",
            "Dados da cidade #208: Tracuateua (Desativada) com 5316 observações\n",
            "Dados da cidade #209: Tracuateua (Operante) com 10725 observações\n",
            "Dados da cidade #210: Tucuruí com 15728 observações\n",
            "Dados da cidade #211: Campina Grande com 14895 observações\n",
            "Dados da cidade #212: João Pessoa com 16337 observações\n",
            "Dados da cidade #213: Monteiro com 12891 observações\n",
            "Dados da cidade #214: São Gonçalo com 13798 observações\n",
            "Dados da cidade #215: Umbuzeiro com 3393 observações\n",
            "Dados da cidade #216: Arcoverde com 11603 observações\n",
            "Dados da cidade #217: Cabrobó com 15216 observações\n",
            "Dados da cidade #218: Caruaru com 3848 observações\n",
            "Dados da cidade #219: Floresta com 7151 observações\n",
            "Dados da cidade #220: Garanhuns com 14280 observações\n",
            "Dados da cidade #221: Olinda com 1979 observações\n",
            "Dados da cidade #222: Ouricuri com 10647 observações\n",
            "Dados da cidade #223: Pesqueira com 14643 observações\n",
            "Dados da cidade #224: Petrolândia com 3722 observações\n",
            "Dados da cidade #225: Petrolina com 13560 observações\n",
            "Dados da cidade #226: Recife (Curado) com 18817 observações\n",
            "Dados da cidade #227: Surubim com 16829 observações\n",
            "Dados da cidade #228: Triunfo com 14455 observações\n",
            "Dados da cidade #229: Alto Longa (Piloto do Longa) com 0 observações\n",
            "Cidade #229 Alto Longa (Piloto do Longa) com erros, shape: (0,).\n",
            "Dados da cidade #230: Bom Jesus do Piauí com 13082 observações\n",
            "Dados da cidade #231: Caldeirão com 6203 observações\n",
            "Dados da cidade #232: Caracol com 9993 observações\n",
            "Dados da cidade #233: Floriano com 11198 observações\n",
            "Dados da cidade #234: Luzilândia (Lag. do Piauí) com 10023 observações\n",
            "Dados da cidade #235: Morro dos Cavalos com 9544 observações\n",
            "Dados da cidade #236: Parnaíba com 11909 observações\n",
            "Dados da cidade #237: Paulistana com 10449 observações\n",
            "Dados da cidade #238: Picos com 13979 observações\n",
            "Dados da cidade #239: Teresina com 12972 observações\n",
            "Dados da cidade #240: Vale do Gurgueia (Cristiano Castro) com 9514 observações\n",
            "Dados da cidade #241: Campo Mourão com 18889 observações\n",
            "Dados da cidade #242: Castro com 16549 observações\n",
            "Dados da cidade #243: Curitiba com 20053 observações\n",
            "Dados da cidade #244: Foz do lguaçu com 5744 observações\n",
            "Dados da cidade #245: Guaíra com 11198 observações\n",
            "Dados da cidade #246: Guarapuava com 4597 observações\n",
            "Dados da cidade #247: Irati com 18004 observações\n",
            "Dados da cidade #248: Ivaí com 14523 observações\n",
            "Dados da cidade #249: Londrina com 13556 observações\n",
            "Dados da cidade #250: Maringá com 16236 observações\n",
            "Dados da cidade #251: Palmas com 11279 observações\n",
            "Dados da cidade #252: Paranaguá com 15348 observações\n",
            "Dados da cidade #253: Ponta Grossa com 3972 observações\n",
            "Dados da cidade #254: Rio Negro com 6317 observações\n",
            "Dados da cidade #255: São Mateus do Sul com 4110 observações\n",
            "Dados da cidade #256: Toledo com 3822 observações\n"
          ],
          "name": "stdout"
        },
        {
          "output_type": "stream",
          "text": [
            "WARNING:weibull.weibull:the linear regression method is likely to yield better results with 2 data points\n"
          ],
          "name": "stderr"
        },
        {
          "output_type": "stream",
          "text": [
            "Dados da cidade #257: Alto da Boa Vista com 2 observações\n",
            "Dados da cidade #258: Angra dos Reis com 4131 observações\n",
            "Dados da cidade #259: Araras com 5301 observações\n",
            "Dados da cidade #260: Avelar com 9135 observações\n",
            "Dados da cidade #261: Bangu com 1641 observações\n",
            "Dados da cidade #262: Barreirinha com 5944 observações\n",
            "Dados da cidade #263: Cabo Frio (Alcalis) com 5863 observações\n",
            "Dados da cidade #264: Campos  com 15842 observações\n",
            "Dados da cidade #265: Carmo com 4071 observações\n",
            "Dados da cidade #266: Cordeiro com 921 observações\n",
            "Dados da cidade #267: Ecologia Agrícola com 7930 observações\n",
            "Dados da cidade #268: Engenho de Dentro com 435 observações\n",
            "Dados da cidade #269: Gra. Juriti (Petrópolis) com 0 observações\n",
            "Cidade #269 Gra. Juriti (Petrópolis) com erros, shape: (0,).\n",
            "Dados da cidade #270: Iguaba Grande com 3137 observações\n",
            "Dados da cidade #271: Ilha Guaíba com 4603 observações\n",
            "Dados da cidade #272: Itaperuna com 8711 observações\n",
            "Dados da cidade #273: Jacarepaguá com 1687 observações\n",
            "Dados da cidade #274: Jardim Botânico com 1418 observações\n",
            "Dados da cidade #275: Penha com 1357 observações\n",
            "Dados da cidade #276: Pinheiral com 3483 observações\n",
            "Dados da cidade #277: Piraí com 5811 observações\n",
            "Dados da cidade #278: Resende com 11863 observações\n",
            "Dados da cidade #279: Rio de Janeiro com 11180 observações\n",
            "Dados da cidade #280: Santa Cruz com 4605 observações\n",
            "Dados da cidade #281: Santa Maria Madalena com 4463 observações\n",
            "Dados da cidade #282: Santa Teresa com 1962 observações\n",
            "Dados da cidade #283: Santo Antônio de Pádua com 675 observações\n",
            "Dados da cidade #284: São Bento (Duque de Caxias) com 5669 observações\n",
            "Dados da cidade #285: São Fidelis com 1682 observações\n",
            "Dados da cidade #286: Teresópolis com 5226 observações\n",
            "Dados da cidade #287: Teresópolis - P. Nacional com 3189 observações\n",
            "Dados da cidade #288: Tinguá com 907 observações\n",
            "Dados da cidade #289: Vassouras com 6896 observações\n",
            "Dados da cidade #290: Apodí com 12645 observações\n",
            "Dados da cidade #291: Ceará Mirim com 12168 observações\n",
            "Dados da cidade #292: Cruzeta com 18394 observações\n",
            "Dados da cidade #293: Florânia com 14288 observações\n",
            "Dados da cidade #294: Macau com 12147 observações\n",
            "Dados da cidade #295: Mossoró com 7039 observações\n",
            "Dados da cidade #296: Natal com 15374 observações\n",
            "Dados da cidade #297: Porto Velho com 8053 observações\n",
            "Dados da cidade #298: Boa Vista com 13986 observações\n",
            "Dados da cidade #299: Caracaraí com 8970 observações\n",
            "Dados da cidade #300: Alegrete com 6130 observações\n",
            "Dados da cidade #301: Bagé com 18243 observações\n",
            "Dados da cidade #302: Bento Gonçalves com 14647 observações\n",
            "Dados da cidade #303: Bom Jesus com 16164 observações\n",
            "Dados da cidade #304: Caçapava do Sul com 4588 observações\n",
            "Dados da cidade #305: Cachoeira do Sul com 7187 observações\n",
            "Dados da cidade #306: Caxias do Sul com 16800 observações\n",
            "Dados da cidade #307: Cruz Alta com 16988 observações\n",
            "Dados da cidade #308: Encruzilhada do Sul com 15752 observações\n",
            "Dados da cidade #309: Guaporé com 6138 observações\n",
            "Dados da cidade #310: Iraí com 17091 observações\n",
            "Dados da cidade #311: Itaqui com 6583 observações\n",
            "Dados da cidade #312: Lagoa Vermelha com 10185 observações\n",
            "Dados da cidade #313: Marcelino Ramos com 3882 observações\n",
            "Dados da cidade #314: Palmeira das Missões com 5872 observações\n",
            "Dados da cidade #315: Passo Fundo com 18189 observações\n",
            "Dados da cidade #316: Pelotas com 12291 observações\n",
            "Dados da cidade #317: Piratini com 3390 observações\n",
            "Dados da cidade #318: Porto Alegre com 18918 observações\n",
            "Dados da cidade #319: Rio Grande com 16172 observações\n",
            "Dados da cidade #320: Santa Maria com 18086 observações\n",
            "Dados da cidade #321: Santa Vitória do Palmar com 16058 observações\n",
            "Dados da cidade #322: Santana do Livramento com 10151 observações\n",
            "Dados da cidade #323: Santo Ângelo com 3409 observações\n",
            "Dados da cidade #324: São Gabriel com 5615 observações\n",
            "Dados da cidade #325: São Luiz Gonzaga com 18131 observações\n",
            "Dados da cidade #326: Tapes com 4951 observações\n",
            "Dados da cidade #327: Torres com 17597 observações\n",
            "Dados da cidade #328: Uruguaiana com 16740 observações\n",
            "Dados da cidade #329: Vacaria com 4981 observações\n",
            "Dados da cidade #330:  Araranguá  com 3993 observações\n",
            "Dados da cidade #331: Camboriú com 5274 observações\n",
            "Dados da cidade #332: Campos Novos com 14860 observações\n",
            "Dados da cidade #333: Chapecó com 13190 observações\n",
            "Dados da cidade #334: Florianópolis com 16869 observações\n",
            "Dados da cidade #335: Indaial com 13352 observações\n",
            "Dados da cidade #336: Irineópolis  com 7132 observações\n",
            "Dados da cidade #337: Lages com 17069 observações\n",
            "Dados da cidade #338: Laguna com 7909 observações\n",
            "Dados da cidade #339: Orleans com 7002 observações\n",
            "Dados da cidade #340: Porto União com 6297 observações\n",
            "Dados da cidade #341: São Francisco do Sul com 3886 observações\n",
            "Dados da cidade #342: São Joaquim com 16163 observações\n",
            "Dados da cidade #343: Urussanga com 13197 observações\n",
            "Dados da cidade #344: Xanxerê com 8401 observações\n",
            "Dados da cidade #345: Aracaju com 15803 observações\n",
            "Dados da cidade #346: Itabaianinha com 14558 observações\n",
            "Dados da cidade #347: Propriá com 11107 observações\n",
            "Dados da cidade #348: Araçatuba com 6286 observações\n",
            "Dados da cidade #349: Avaré com 12084 observações\n",
            "Dados da cidade #350: Bananal com 2667 observações\n",
            "Dados da cidade #351: Barretos com 4742 observações\n",
            "Dados da cidade #352: Campinas com 4603 observações\n",
            "Dados da cidade #353: Campos do Jordão com 13926 observações\n",
            "Dados da cidade #354: Catanduva com 18900 observações\n",
            "Dados da cidade #355: Colina com 4833 observações\n",
            "Dados da cidade #356: Coop. Agrícola de Cotia com 3117 observações\n",
            "Dados da cidade #357: Fazenda Ipanema (Est. Desativada) com 2730 observações\n",
            "Dados da cidade #358: Franca com 19958 observações\n",
            "Dados da cidade #359: Guarulhos com 10464 observações\n",
            "Dados da cidade #360: Iguape com 11719 observações\n",
            "Dados da cidade #361: Itapeva com 7073 observações\n",
            "Dados da cidade #362: Jaboticabal com 3917 observações\n",
            "Dados da cidade #363: Lins com 6578 observações\n",
            "Dados da cidade #364: Mogi das Cruzes com 2598 observações\n",
            "Dados da cidade #365: Nova Odessa com 2707 observações\n",
            "Dados da cidade #366: Paraibuna com 4105 observações\n",
            "Dados da cidade #367: Presidente Prudente com 17570 observações\n",
            "Dados da cidade #368: Santa Rita com 6267 observações\n"
          ],
          "name": "stdout"
        },
        {
          "output_type": "stream",
          "text": [
            "/usr/local/lib/python3.6/dist-packages/weibull/weibull.py:165: RuntimeWarning: overflow encountered in power\n",
            "  b = np.sum(dtf_all ** shape)\n",
            "/usr/local/lib/python3.6/dist-packages/weibull/weibull.py:166: RuntimeWarning: overflow encountered in power\n",
            "  c = np.sum((dtf_all ** shape) * np.log(dtf_all))\n",
            "/usr/local/lib/python3.6/dist-packages/weibull/weibull.py:167: RuntimeWarning: overflow encountered in power\n",
            "  h = np.sum((dtf_all ** shape) * (np.log(dtf_all)) ** 2)\n",
            "/usr/local/lib/python3.6/dist-packages/weibull/weibull.py:169: RuntimeWarning: invalid value encountered in double_scalars\n",
            "  shape = shape + (a + (1.0 / shape) - (c / b)) / ((1.0 / shape ** 2) + ((b * h) - c ** 2) / b ** 2)\n"
          ],
          "name": "stderr"
        },
        {
          "output_type": "stream",
          "text": [
            "Cidade #368 Santa Rita com erros, shape: (6267,).\n",
            "Dados da cidade #369: Santos com 9151 observações\n",
            "Dados da cidade #370: São Carlos com 19666 observações\n",
            "Dados da cidade #371: São José dos Campos com 5667 observações\n",
            "Dados da cidade #372: São Paulo - Horto Florestal com 6905 observações\n",
            "Dados da cidade #373: São Paulo (Mir. de Santana) com 20681 observações\n",
            "Dados da cidade #374: São Simão com 15703 observações\n",
            "Dados da cidade #375: Sertãozinho com 3147 observações\n",
            "Dados da cidade #376: Sorocaba com 11393 observações\n",
            "Dados da cidade #377: Tamoio com 3524 observações\n",
            "Dados da cidade #378: Taubaté com 7928 observações\n",
            "Dados da cidade #379: Tremembé com 5554 observações\n",
            "Dados da cidade #380: Ubatuba com 14352 observações\n",
            "Dados da cidade #381: Usina Junqueira com 3570 observações\n",
            "Dados da cidade #382: Votuporanga com 7933 observações\n",
            "Dados da cidade #383: Araguaina com 12347 observações\n",
            "Dados da cidade #384: Paranã com 9026 observações\n",
            "Dados da cidade #385: Pedro Afonso com 13058 observações\n",
            "Dados da cidade #386: Peixe com 15386 observações\n",
            "Dados da cidade #387: Porto Nacional com 17223 observações\n",
            "Dados da cidade #388: Taguatinga com 13485 observações\n"
          ],
          "name": "stdout"
        }
      ]
    },
    {
      "cell_type": "markdown",
      "metadata": {
        "id": "oNFuTKu1zEpB",
        "colab_type": "text"
      },
      "source": [
        "# Identificando e consertando possíveis erros"
      ]
    },
    {
      "cell_type": "code",
      "metadata": {
        "id": "Ibeka3o_YC0X",
        "colab_type": "code",
        "outputId": "dec3c7fc-6d75-447e-d97a-ed95daadc1ad",
        "colab": {
          "base_uri": "https://localhost:8080/",
          "height": 34
        }
      },
      "source": [
        "len(meta['name'].unique()) # Número de cidades com nomes únicos"
      ],
      "execution_count": 0,
      "outputs": [
        {
          "output_type": "execute_result",
          "data": {
            "text/plain": [
              "388"
            ]
          },
          "metadata": {
            "tags": []
          },
          "execution_count": 13
        }
      ]
    },
    {
      "cell_type": "code",
      "metadata": {
        "id": "oj_CaK1FkKLj",
        "colab_type": "code",
        "outputId": "fc962c26-7074-4f90-e8c1-298684b01110",
        "colab": {
          "base_uri": "https://localhost:8080/",
          "height": 34
        }
      },
      "source": [
        "meta.shape # Formato do dataframe, 389 é diferente de 388, logo há uma cidade com nome repetido"
      ],
      "execution_count": 0,
      "outputs": [
        {
          "output_type": "execute_result",
          "data": {
            "text/plain": [
              "(389, 21)"
            ]
          },
          "metadata": {
            "tags": []
          },
          "execution_count": 14
        }
      ]
    },
    {
      "cell_type": "code",
      "metadata": {
        "id": "3K2ZhX_bkLMP",
        "colab_type": "code",
        "outputId": "481057c1-fb99-40d1-beb2-7a93978059ce",
        "colab": {
          "base_uri": "https://localhost:8080/",
          "height": 68
        }
      },
      "source": [
        "meta.name[meta['name'].duplicated(keep = False)] # Descobre nomes repetidos"
      ],
      "execution_count": 0,
      "outputs": [
        {
          "output_type": "execute_result",
          "data": {
            "text/plain": [
              "250    Palmas\n",
              "383    Palmas\n",
              "Name: name, dtype: object"
            ]
          },
          "metadata": {
            "tags": []
          },
          "execution_count": 15
        }
      ]
    },
    {
      "cell_type": "code",
      "metadata": {
        "id": "FEb0vUfXkYDm",
        "colab_type": "code",
        "outputId": "48e64386-53c6-4f56-d20c-1725948c8ff8",
        "colab": {
          "base_uri": "https://localhost:8080/",
          "height": 131
        }
      },
      "source": [
        "meta[meta['name'] == 'Palmas'] # Há duas cidades com nome Palmas, é preciso recalcular os seus parâmetros"
      ],
      "execution_count": 0,
      "outputs": [
        {
          "output_type": "execute_result",
          "data": {
            "text/html": [
              "<div>\n",
              "<style scoped>\n",
              "    .dataframe tbody tr th:only-of-type {\n",
              "        vertical-align: middle;\n",
              "    }\n",
              "\n",
              "    .dataframe tbody tr th {\n",
              "        vertical-align: top;\n",
              "    }\n",
              "\n",
              "    .dataframe thead th {\n",
              "        text-align: right;\n",
              "    }\n",
              "</style>\n",
              "<table border=\"1\" class=\"dataframe\">\n",
              "  <thead>\n",
              "    <tr style=\"text-align: right;\">\n",
              "      <th></th>\n",
              "      <th>id</th>\n",
              "      <th>lon</th>\n",
              "      <th>lat</th>\n",
              "      <th>alt</th>\n",
              "      <th>name</th>\n",
              "      <th>state</th>\n",
              "      <th>uf</th>\n",
              "      <th>time_zone</th>\n",
              "      <th>offset_utc</th>\n",
              "      <th>time_zone.1</th>\n",
              "      <th>offset_utc.1</th>\n",
              "      <th>shape</th>\n",
              "      <th>scale</th>\n",
              "      <th>vmp</th>\n",
              "      <th>vmaxE</th>\n",
              "      <th>p_vmp</th>\n",
              "      <th>p_vmaxE</th>\n",
              "      <th>w_mean</th>\n",
              "      <th>w_median</th>\n",
              "      <th>mean</th>\n",
              "      <th>median</th>\n",
              "    </tr>\n",
              "  </thead>\n",
              "  <tbody>\n",
              "    <tr>\n",
              "      <th>250</th>\n",
              "      <td>83860</td>\n",
              "      <td>-51.983333</td>\n",
              "      <td>-26.483333</td>\n",
              "      <td>1090.52</td>\n",
              "      <td>Palmas</td>\n",
              "      <td>Paraná</td>\n",
              "      <td>PR</td>\n",
              "      <td>America/Sao_Paulo</td>\n",
              "      <td>-3</td>\n",
              "      <td>America/Sao_Paulo</td>\n",
              "      <td>-3</td>\n",
              "      <td>1.54496</td>\n",
              "      <td>1.636089</td>\n",
              "      <td>0.37354</td>\n",
              "      <td>2.429874</td>\n",
              "      <td>0.381242</td>\n",
              "      <td>0.185596</td>\n",
              "      <td>1.471999</td>\n",
              "      <td>1.290561</td>\n",
              "      <td>1.463766</td>\n",
              "      <td>1.333333</td>\n",
              "    </tr>\n",
              "    <tr>\n",
              "      <th>383</th>\n",
              "      <td>83033</td>\n",
              "      <td>-48.300000</td>\n",
              "      <td>-10.183333</td>\n",
              "      <td>280.00</td>\n",
              "      <td>Palmas</td>\n",
              "      <td>Tocantins</td>\n",
              "      <td>TO</td>\n",
              "      <td>America/Araguaina</td>\n",
              "      <td>-3</td>\n",
              "      <td>America/Araguaina</td>\n",
              "      <td>-3</td>\n",
              "      <td>1.54496</td>\n",
              "      <td>1.636089</td>\n",
              "      <td>0.37354</td>\n",
              "      <td>2.429874</td>\n",
              "      <td>0.381242</td>\n",
              "      <td>0.185596</td>\n",
              "      <td>1.471999</td>\n",
              "      <td>1.290561</td>\n",
              "      <td>1.463766</td>\n",
              "      <td>1.333333</td>\n",
              "    </tr>\n",
              "  </tbody>\n",
              "</table>\n",
              "</div>"
            ],
            "text/plain": [
              "        id        lon        lat  ...  w_median      mean    median\n",
              "250  83860 -51.983333 -26.483333  ...  1.290561  1.463766  1.333333\n",
              "383  83033 -48.300000 -10.183333  ...  1.290561  1.463766  1.333333\n",
              "\n",
              "[2 rows x 21 columns]"
            ]
          },
          "metadata": {
            "tags": []
          },
          "execution_count": 16
        }
      ]
    },
    {
      "cell_type": "code",
      "metadata": {
        "id": "e9qn7-IOvVVZ",
        "colab_type": "code",
        "outputId": "008c4def-74fb-4813-eab3-f710e7fbec84",
        "colab": {
          "base_uri": "https://localhost:8080/",
          "height": 391
        }
      },
      "source": [
        "meta.loc[250,:] # Palmas/PR"
      ],
      "execution_count": 0,
      "outputs": [
        {
          "output_type": "execute_result",
          "data": {
            "text/plain": [
              "id                          83860\n",
              "lon                      -51.9833\n",
              "lat                      -26.4833\n",
              "alt                       1090.52\n",
              "name                       Palmas\n",
              "state                      Paraná\n",
              "uf                             PR\n",
              "time_zone       America/Sao_Paulo\n",
              "offset_utc                     -3\n",
              "time_zone.1     America/Sao_Paulo\n",
              "offset_utc.1                   -3\n",
              "shape                     1.54496\n",
              "scale                     1.63609\n",
              "vmp                       0.37354\n",
              "vmaxE                     2.42987\n",
              "p_vmp                    0.381242\n",
              "p_vmaxE                  0.185596\n",
              "w_mean                      1.472\n",
              "w_median                  1.29056\n",
              "mean                      1.46377\n",
              "median                    1.33333\n",
              "Name: 250, dtype: object"
            ]
          },
          "metadata": {
            "tags": []
          },
          "execution_count": 18
        }
      ]
    },
    {
      "cell_type": "code",
      "metadata": {
        "id": "LQ1vFiwWk5WO",
        "colab_type": "code",
        "outputId": "f4090a93-9fd3-4489-a5a5-33578417cf29",
        "colab": {
          "base_uri": "https://localhost:8080/",
          "height": 68
        }
      },
      "source": [
        "# Calculando os parâmetros para Palmas/PR\n",
        "\n",
        "temp = vento[(vento['name'] == 'Palmas') & (vento['uf'] == 'PR')].ws\n",
        "temp = temp[temp != 0].dropna()\n",
        "\n",
        "print(temp.shape)\n",
        "\n",
        "analise = weibull.Analysis(temp)\n",
        "  \n",
        "analise.fit(method = 'mle')\n",
        "    \n",
        "shape = analise.beta\n",
        "scale = analise.eta\n",
        "  \n",
        "print(f'beta: {shape: .02f}')\n",
        "print(f'eta: {scale: .02f}')\n",
        "    \n",
        "vmp = most_probable_wspeed(shape, scale) \n",
        "vmaxE = most_energy_wspeed(shape, scale)\n",
        "  \n",
        "p_vmp = prob_weibull(vmp, shape, scale)\n",
        "p_vmaxE = prob_weibull(vmaxE, shape, scale)\n",
        "  \n",
        "wmean = analise.mean\n",
        "wmedian = analise.median\n",
        "    \n",
        "mean = np.mean(temp)\n",
        "median = np.median(temp)\n",
        "\n",
        "meta.loc[250,'shape'] = shape\n",
        "meta.loc[250,'scale'] = scale\n",
        "meta.loc[250,'vmp'] = vmp\n",
        "meta.loc[250,'vmaxE'] = vmaxE\n",
        "meta.loc[250,'p_vmp'] = p_vmp\n",
        "meta.loc[250,'p_vmaxE'] = p_vmaxE\n",
        "meta.loc[250,'w_mean'] = wmean\n",
        "meta.loc[250,'w_median'] = wmedian\n",
        "meta.loc[250,'mean'] = mean\n",
        "meta.loc[250,'median'] = median"
      ],
      "execution_count": 0,
      "outputs": [
        {
          "output_type": "stream",
          "text": [
            "(3478,)\n",
            "beta:  1.60\n",
            "eta:  1.57\n"
          ],
          "name": "stdout"
        }
      ]
    },
    {
      "cell_type": "code",
      "metadata": {
        "id": "L1mgZs0xwgI6",
        "colab_type": "code",
        "outputId": "10522c0f-a554-4663-98ba-84cdf7bd5903",
        "colab": {
          "base_uri": "https://localhost:8080/",
          "height": 391
        }
      },
      "source": [
        "meta.loc[383,:] #Palmas/TO"
      ],
      "execution_count": 0,
      "outputs": [
        {
          "output_type": "execute_result",
          "data": {
            "text/plain": [
              "id                          83033\n",
              "lon                         -48.3\n",
              "lat                      -10.1833\n",
              "alt                           280\n",
              "name                       Palmas\n",
              "state                   Tocantins\n",
              "uf                             TO\n",
              "time_zone       America/Araguaina\n",
              "offset_utc                     -3\n",
              "time_zone.1     America/Araguaina\n",
              "offset_utc.1                   -3\n",
              "shape                     1.54496\n",
              "scale                     1.63609\n",
              "vmp                       0.37354\n",
              "vmaxE                     2.42987\n",
              "p_vmp                    0.381242\n",
              "p_vmaxE                  0.185596\n",
              "w_mean                      1.472\n",
              "w_median                  1.29056\n",
              "mean                      1.46377\n",
              "median                    1.33333\n",
              "Name: 383, dtype: object"
            ]
          },
          "metadata": {
            "tags": []
          },
          "execution_count": 21
        }
      ]
    },
    {
      "cell_type": "code",
      "metadata": {
        "id": "2iKYT0jApOxF",
        "colab_type": "code",
        "outputId": "ef6455ce-2558-4309-b1f4-4f89587f5029",
        "colab": {
          "base_uri": "https://localhost:8080/",
          "height": 68
        }
      },
      "source": [
        "# Calculando os parâmetros para Palmas/TO\n",
        "\n",
        "temp = vento[(vento['name'] == 'Palmas') & (vento['uf'] == 'TO')].ws\n",
        "temp = temp[temp != 0].dropna()\n",
        "\n",
        "print(temp.shape)\n",
        "\n",
        "analise = weibull.Analysis(temp)\n",
        "  \n",
        "analise.fit(method = 'mle')\n",
        "    \n",
        "shape = analise.beta\n",
        "scale = analise.eta\n",
        "  \n",
        "print(f'beta: {shape: .02f}')\n",
        "print(f'eta: {scale: .02f}')\n",
        "    \n",
        "vmp = most_probable_wspeed(shape, scale) \n",
        "vmaxE = most_energy_wspeed(shape, scale)\n",
        "  \n",
        "p_vmp = prob_weibull(vmp, shape, scale)\n",
        "p_vmaxE = prob_weibull(vmaxE, shape, scale)\n",
        "  \n",
        "wmean = analise.mean\n",
        "wmedian = analise.median\n",
        "    \n",
        "mean = np.mean(temp)\n",
        "median = np.median(temp)\n",
        "\n",
        "meta.loc[383,'shape'] = shape\n",
        "meta.loc[383,'scale'] = scale\n",
        "meta.loc[383,'vmp'] = vmp\n",
        "meta.loc[383,'vmaxE'] = vmaxE\n",
        "meta.loc[383,'p_vmp'] = p_vmp\n",
        "meta.loc[383,'p_vmaxE'] = p_vmaxE\n",
        "meta.loc[383,'w_mean'] = wmean\n",
        "meta.loc[383,'w_median'] = wmedian\n",
        "meta.loc[383,'mean'] = mean\n",
        "meta.loc[383,'median'] = median"
      ],
      "execution_count": 0,
      "outputs": [
        {
          "output_type": "stream",
          "text": [
            "(7801,)\n",
            "beta:  1.52\n",
            "eta:  1.67\n"
          ],
          "name": "stdout"
        }
      ]
    },
    {
      "cell_type": "code",
      "metadata": {
        "id": "x2mYW8JkluGi",
        "colab_type": "code",
        "outputId": "bbfd5bda-4ff6-485f-95a9-ab8f163b922b",
        "colab": {
          "base_uri": "https://localhost:8080/",
          "height": 131
        }
      },
      "source": [
        "meta[meta['name'] == 'Palmas'] # Verificando se os parâmetros foram alterados de fato"
      ],
      "execution_count": 0,
      "outputs": [
        {
          "output_type": "execute_result",
          "data": {
            "text/html": [
              "<div>\n",
              "<style scoped>\n",
              "    .dataframe tbody tr th:only-of-type {\n",
              "        vertical-align: middle;\n",
              "    }\n",
              "\n",
              "    .dataframe tbody tr th {\n",
              "        vertical-align: top;\n",
              "    }\n",
              "\n",
              "    .dataframe thead th {\n",
              "        text-align: right;\n",
              "    }\n",
              "</style>\n",
              "<table border=\"1\" class=\"dataframe\">\n",
              "  <thead>\n",
              "    <tr style=\"text-align: right;\">\n",
              "      <th></th>\n",
              "      <th>id</th>\n",
              "      <th>lon</th>\n",
              "      <th>lat</th>\n",
              "      <th>alt</th>\n",
              "      <th>name</th>\n",
              "      <th>state</th>\n",
              "      <th>uf</th>\n",
              "      <th>time_zone</th>\n",
              "      <th>offset_utc</th>\n",
              "      <th>time_zone.1</th>\n",
              "      <th>offset_utc.1</th>\n",
              "      <th>shape</th>\n",
              "      <th>scale</th>\n",
              "      <th>vmp</th>\n",
              "      <th>vmaxE</th>\n",
              "      <th>p_vmp</th>\n",
              "      <th>p_vmaxE</th>\n",
              "      <th>w_mean</th>\n",
              "      <th>w_median</th>\n",
              "      <th>mean</th>\n",
              "      <th>median</th>\n",
              "    </tr>\n",
              "  </thead>\n",
              "  <tbody>\n",
              "    <tr>\n",
              "      <th>250</th>\n",
              "      <td>83860</td>\n",
              "      <td>-51.983333</td>\n",
              "      <td>-26.483333</td>\n",
              "      <td>1090.52</td>\n",
              "      <td>Palmas</td>\n",
              "      <td>Paraná</td>\n",
              "      <td>PR</td>\n",
              "      <td>America/Sao_Paulo</td>\n",
              "      <td>-3</td>\n",
              "      <td>America/Sao_Paulo</td>\n",
              "      <td>-3</td>\n",
              "      <td>1.602136</td>\n",
              "      <td>1.568519</td>\n",
              "      <td>0.367947</td>\n",
              "      <td>2.201158</td>\n",
              "      <td>0.386804</td>\n",
              "      <td>0.224086</td>\n",
              "      <td>1.406121</td>\n",
              "      <td>1.247780</td>\n",
              "      <td>1.396674</td>\n",
              "      <td>1.333333</td>\n",
              "    </tr>\n",
              "    <tr>\n",
              "      <th>383</th>\n",
              "      <td>83033</td>\n",
              "      <td>-48.300000</td>\n",
              "      <td>-10.183333</td>\n",
              "      <td>280.00</td>\n",
              "      <td>Palmas</td>\n",
              "      <td>Tocantins</td>\n",
              "      <td>TO</td>\n",
              "      <td>America/Araguaina</td>\n",
              "      <td>-3</td>\n",
              "      <td>America/Araguaina</td>\n",
              "      <td>-3</td>\n",
              "      <td>1.524961</td>\n",
              "      <td>1.666206</td>\n",
              "      <td>0.376130</td>\n",
              "      <td>2.525606</td>\n",
              "      <td>0.377850</td>\n",
              "      <td>0.172752</td>\n",
              "      <td>1.501252</td>\n",
              "      <td>1.310235</td>\n",
              "      <td>1.493678</td>\n",
              "      <td>1.266667</td>\n",
              "    </tr>\n",
              "  </tbody>\n",
              "</table>\n",
              "</div>"
            ],
            "text/plain": [
              "        id        lon        lat  ...  w_median      mean    median\n",
              "250  83860 -51.983333 -26.483333  ...  1.247780  1.396674  1.333333\n",
              "383  83033 -48.300000 -10.183333  ...  1.310235  1.493678  1.266667\n",
              "\n",
              "[2 rows x 21 columns]"
            ]
          },
          "metadata": {
            "tags": []
          },
          "execution_count": 23
        }
      ]
    },
    {
      "cell_type": "code",
      "metadata": {
        "id": "J4zHYzLM0gzd",
        "colab_type": "code",
        "outputId": "f51d1c6c-cee1-4c7b-c0ea-e1c8b903d8a2",
        "colab": {
          "base_uri": "https://localhost:8080/",
          "height": 151
        }
      },
      "source": [
        "# Remover linhas com poucas observações < 10\n",
        "# cidades com poucas observações geraram valores anômalos  ['Alto da Boa Vista', 'Muniz Freire']\n",
        "# é preciso removê-las\n",
        "\n",
        "meta[meta['name'] == 'Alto da Boa Vista']"
      ],
      "execution_count": 0,
      "outputs": [
        {
          "output_type": "execute_result",
          "data": {
            "text/html": [
              "<div>\n",
              "<style scoped>\n",
              "    .dataframe tbody tr th:only-of-type {\n",
              "        vertical-align: middle;\n",
              "    }\n",
              "\n",
              "    .dataframe tbody tr th {\n",
              "        vertical-align: top;\n",
              "    }\n",
              "\n",
              "    .dataframe thead th {\n",
              "        text-align: right;\n",
              "    }\n",
              "</style>\n",
              "<table border=\"1\" class=\"dataframe\">\n",
              "  <thead>\n",
              "    <tr style=\"text-align: right;\">\n",
              "      <th></th>\n",
              "      <th>id</th>\n",
              "      <th>lon</th>\n",
              "      <th>lat</th>\n",
              "      <th>alt</th>\n",
              "      <th>name</th>\n",
              "      <th>state</th>\n",
              "      <th>uf</th>\n",
              "      <th>time_zone</th>\n",
              "      <th>offset_utc</th>\n",
              "      <th>time_zone.1</th>\n",
              "      <th>offset_utc.1</th>\n",
              "      <th>shape</th>\n",
              "      <th>scale</th>\n",
              "      <th>vmp</th>\n",
              "      <th>vmaxE</th>\n",
              "      <th>p_vmp</th>\n",
              "      <th>p_vmaxE</th>\n",
              "      <th>w_mean</th>\n",
              "      <th>w_median</th>\n",
              "      <th>mean</th>\n",
              "      <th>median</th>\n",
              "    </tr>\n",
              "  </thead>\n",
              "  <tbody>\n",
              "    <tr>\n",
              "      <th>256</th>\n",
              "      <td>83007</td>\n",
              "      <td>-43.266667</td>\n",
              "      <td>-22.95</td>\n",
              "      <td>347.09</td>\n",
              "      <td>Alto da Boa Vista</td>\n",
              "      <td>Rio de Janeiro</td>\n",
              "      <td>RJ</td>\n",
              "      <td>America/Sao_Paulo</td>\n",
              "      <td>-3</td>\n",
              "      <td>America/Sao_Paulo</td>\n",
              "      <td>-3</td>\n",
              "      <td>113.965261</td>\n",
              "      <td>9.549067</td>\n",
              "      <td>0.083054</td>\n",
              "      <td>0.08526</td>\n",
              "      <td>1.997957e-232</td>\n",
              "      <td>3.858955e-231</td>\n",
              "      <td>9.501424</td>\n",
              "      <td>9.518406</td>\n",
              "      <td>9.5</td>\n",
              "      <td>9.5</td>\n",
              "    </tr>\n",
              "  </tbody>\n",
              "</table>\n",
              "</div>"
            ],
            "text/plain": [
              "        id        lon    lat     alt  ...    w_mean  w_median mean median\n",
              "256  83007 -43.266667 -22.95  347.09  ...  9.501424  9.518406  9.5    9.5\n",
              "\n",
              "[1 rows x 21 columns]"
            ]
          },
          "metadata": {
            "tags": []
          },
          "execution_count": 24
        }
      ]
    },
    {
      "cell_type": "code",
      "metadata": {
        "id": "pqpLmr5h0phf",
        "colab_type": "code",
        "outputId": "9ccdd209-4d29-44f7-8549-43a71ed0cd00",
        "colab": {
          "base_uri": "https://localhost:8080/",
          "height": 117
        }
      },
      "source": [
        "meta[meta['name'] == 'Muniz Freire']"
      ],
      "execution_count": 0,
      "outputs": [
        {
          "output_type": "execute_result",
          "data": {
            "text/html": [
              "<div>\n",
              "<style scoped>\n",
              "    .dataframe tbody tr th:only-of-type {\n",
              "        vertical-align: middle;\n",
              "    }\n",
              "\n",
              "    .dataframe tbody tr th {\n",
              "        vertical-align: top;\n",
              "    }\n",
              "\n",
              "    .dataframe thead th {\n",
              "        text-align: right;\n",
              "    }\n",
              "</style>\n",
              "<table border=\"1\" class=\"dataframe\">\n",
              "  <thead>\n",
              "    <tr style=\"text-align: right;\">\n",
              "      <th></th>\n",
              "      <th>id</th>\n",
              "      <th>lon</th>\n",
              "      <th>lat</th>\n",
              "      <th>alt</th>\n",
              "      <th>name</th>\n",
              "      <th>state</th>\n",
              "      <th>uf</th>\n",
              "      <th>time_zone</th>\n",
              "      <th>offset_utc</th>\n",
              "      <th>time_zone.1</th>\n",
              "      <th>offset_utc.1</th>\n",
              "      <th>shape</th>\n",
              "      <th>scale</th>\n",
              "      <th>vmp</th>\n",
              "      <th>vmaxE</th>\n",
              "      <th>p_vmp</th>\n",
              "      <th>p_vmaxE</th>\n",
              "      <th>w_mean</th>\n",
              "      <th>w_median</th>\n",
              "      <th>mean</th>\n",
              "      <th>median</th>\n",
              "    </tr>\n",
              "  </thead>\n",
              "  <tbody>\n",
              "    <tr>\n",
              "      <th>82</th>\n",
              "      <td>83013</td>\n",
              "      <td>-41.4</td>\n",
              "      <td>-20.45</td>\n",
              "      <td>530.0</td>\n",
              "      <td>Muniz Freire</td>\n",
              "      <td>Espírito Santo</td>\n",
              "      <td>ES</td>\n",
              "      <td>America/Sao_Paulo</td>\n",
              "      <td>-3</td>\n",
              "      <td>America/Sao_Paulo</td>\n",
              "      <td>-3</td>\n",
              "      <td>5.532754</td>\n",
              "      <td>3.681266</td>\n",
              "      <td>0.545101</td>\n",
              "      <td>0.905875</td>\n",
              "      <td>0.000261</td>\n",
              "      <td>0.00261</td>\n",
              "      <td>3.399695</td>\n",
              "      <td>3.445305</td>\n",
              "      <td>3.380606</td>\n",
              "      <td>3.60108</td>\n",
              "    </tr>\n",
              "  </tbody>\n",
              "</table>\n",
              "</div>"
            ],
            "text/plain": [
              "       id   lon    lat    alt  ...    w_mean  w_median      mean   median\n",
              "82  83013 -41.4 -20.45  530.0  ...  3.399695  3.445305  3.380606  3.60108\n",
              "\n",
              "[1 rows x 21 columns]"
            ]
          },
          "metadata": {
            "tags": []
          },
          "execution_count": 25
        }
      ]
    },
    {
      "cell_type": "code",
      "metadata": {
        "id": "GphpUYVR0vZ-",
        "colab_type": "code",
        "colab": {}
      },
      "source": [
        "meta.drop([256, 82], axis = 0, inplace = True) # Removendo Alto da Boa Vista e Muniz Freire"
      ],
      "execution_count": 0,
      "outputs": []
    },
    {
      "cell_type": "code",
      "metadata": {
        "id": "yXxo4GZO1VvY",
        "colab_type": "code",
        "outputId": "df5fb967-d8e5-4258-dc1c-a801351fbe33",
        "colab": {
          "base_uri": "https://localhost:8080/",
          "height": 187
        }
      },
      "source": [
        "meta.name[meta['shape'].isna()] # Identificando cidades sem observações de velocidade do vento"
      ],
      "execution_count": 0,
      "outputs": [
        {
          "output_type": "execute_result",
          "data": {
            "text/plain": [
              "75                   Alfredo Chaves\n",
              "76                          Aracruz\n",
              "77                    Boa Esperança\n",
              "79                       Ecoporanga\n",
              "80                          Itarana\n",
              "189                Rosário do Oeste\n",
              "228    Alto Longa (Piloto do Longa)\n",
              "268        Gra. Juriti (Petrópolis)\n",
              "367                      Santa Rita\n",
              "Name: name, dtype: object"
            ]
          },
          "metadata": {
            "tags": []
          },
          "execution_count": 29
        }
      ]
    },
    {
      "cell_type": "code",
      "metadata": {
        "id": "94YNXMls1Gp0",
        "colab_type": "code",
        "colab": {}
      },
      "source": [
        "meta.dropna(axis = 0, inplace = True) # Removendo as cidades acima"
      ],
      "execution_count": 0,
      "outputs": []
    },
    {
      "cell_type": "code",
      "metadata": {
        "id": "pndYpaHn1YKd",
        "colab_type": "code",
        "outputId": "4447a923-5bd8-4310-b468-ea59dbf3bd25",
        "colab": {
          "base_uri": "https://localhost:8080/",
          "height": 34
        }
      },
      "source": [
        "meta.shape # Verificando forma do dataframe"
      ],
      "execution_count": 0,
      "outputs": [
        {
          "output_type": "execute_result",
          "data": {
            "text/plain": [
              "(378, 21)"
            ]
          },
          "metadata": {
            "tags": []
          },
          "execution_count": 32
        }
      ]
    },
    {
      "cell_type": "code",
      "metadata": {
        "id": "Py-FWDLi1f8R",
        "colab_type": "code",
        "colab": {}
      },
      "source": [
        "meta.reset_index(drop = True, inplace = True) # Resetando índice"
      ],
      "execution_count": 0,
      "outputs": []
    },
    {
      "cell_type": "code",
      "metadata": {
        "id": "KYXp5Wkf1zH0",
        "colab_type": "code",
        "colab": {}
      },
      "source": [
        "meta.to_excel(path + 'weibulldatabase.xls') # Salva os dados para Excel\n",
        "meta.to_csv(path + 'weibulldatabase.csv') # Salva os dados para csv"
      ],
      "execution_count": 0,
      "outputs": []
    }
  ]
}