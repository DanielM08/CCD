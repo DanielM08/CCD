{
  "nbformat": 4,
  "nbformat_minor": 0,
  "metadata": {
    "colab": {
      "name": "LSTM - Evento",
      "provenance": [],
      "collapsed_sections": []
    },
    "kernelspec": {
      "name": "python3",
      "display_name": "Python 3"
    }
  },
  "cells": [
    {
      "cell_type": "code",
      "metadata": {
        "id": "N3N3JlA2dg8-",
        "colab_type": "code",
        "colab": {}
      },
      "source": [
        "#Montando ao Google Drive\n",
        "from google.colab import drive\n",
        "drive.mount('/content/drive')"
      ],
      "execution_count": 0,
      "outputs": []
    },
    {
      "cell_type": "code",
      "metadata": {
        "id": "eHw2SjiTflFQ",
        "colab_type": "code",
        "colab": {}
      },
      "source": [
        "import pandas as pd\n",
        "import numpy as np\n",
        "from sklearn.preprocessing import StandardScaler\n",
        "from sklearn.decomposition import PCA"
      ],
      "execution_count": 0,
      "outputs": []
    },
    {
      "cell_type": "code",
      "metadata": {
        "id": "8adRl89-5-Fh",
        "colab_type": "code",
        "colab": {}
      },
      "source": [
        "uf = input(\"Entre com a Unidade Federativa desejada: \")"
      ],
      "execution_count": 0,
      "outputs": []
    },
    {
      "cell_type": "code",
      "metadata": {
        "id": "1IQNWl4df1td",
        "colab_type": "code",
        "colab": {}
      },
      "source": [
        "#Lendo base de dados do Google Drive\n",
        "dataSet = pd.read_csv(\"/content/drive/My Drive/CCD/DataToLSTM/\" + uf + \".csv\").drop(columns = \"Unnamed: 0\")"
      ],
      "execution_count": 0,
      "outputs": []
    },
    {
      "cell_type": "code",
      "metadata": {
        "id": "LfefwBPVnnj5",
        "colab_type": "code",
        "colab": {}
      },
      "source": [
        "#Cidades identificadas na UF escolhida\n",
        "cidades = dataSet[\"name\"].drop_duplicates()"
      ],
      "execution_count": 0,
      "outputs": []
    },
    {
      "cell_type": "code",
      "metadata": {
        "id": "Vid5ppd2nzH8",
        "colab_type": "code",
        "colab": {}
      },
      "source": [
        "print(cidades)"
      ],
      "execution_count": 0,
      "outputs": []
    },
    {
      "cell_type": "code",
      "metadata": {
        "id": "8CIlTgDhm9eL",
        "colab_type": "code",
        "colab": {}
      },
      "source": [
        "#Escolha aleatória da cidade no Estado escolhido\n",
        "cidadeAleatoria = cidades.sample()\n",
        "print(cidadeAleatoria)"
      ],
      "execution_count": 0,
      "outputs": []
    },
    {
      "cell_type": "code",
      "metadata": {
        "id": "-OoU4ZTZqjE-",
        "colab_type": "code",
        "colab": {}
      },
      "source": [
        "#Colunas da base de dados\n",
        "dataSet.columns"
      ],
      "execution_count": 0,
      "outputs": []
    },
    {
      "cell_type": "code",
      "metadata": {
        "id": "mlMttnR2q_Lt",
        "colab_type": "code",
        "colab": {}
      },
      "source": [
        "#Cabeçalho dos dados\n",
        "dataSet.head(30)"
      ],
      "execution_count": 0,
      "outputs": []
    },
    {
      "cell_type": "code",
      "metadata": {
        "id": "McNvoeAkqrUQ",
        "colab_type": "code",
        "colab": {}
      },
      "source": [
        "#Convertendo datas para objeto \"DateTime\"\n",
        "dataSet[\"date\"] = pd.to_datetime(dataSet[\"date\"], format=\"%Y-%m-%d %H:%M:%S\")"
      ],
      "execution_count": 0,
      "outputs": []
    },
    {
      "cell_type": "code",
      "metadata": {
        "id": "ZFKf1FzqgaUl",
        "colab_type": "code",
        "colab": {}
      },
      "source": [
        "#Selecionando dados para a cidade escolhida, eliminando variáveis \"id\", \"name\" e \"uf\", que não serão mais importantes\n",
        "dataTreino = dataSet[dataSet[\"name\"] == cidadeAleatoria.values[0]].drop(columns = [\"id\",\"name\",\"uf\"]).reset_index(drop = True)"
      ],
      "execution_count": 0,
      "outputs": []
    },
    {
      "cell_type": "code",
      "metadata": {
        "id": "PQPJzJHEsEAj",
        "colab_type": "code",
        "colab": {}
      },
      "source": [
        "#Colunas para base de dados para treino\n",
        "dataTreino.columns"
      ],
      "execution_count": 0,
      "outputs": []
    },
    {
      "cell_type": "code",
      "metadata": {
        "id": "pNvq8OUysGv2",
        "colab_type": "code",
        "colab": {}
      },
      "source": [
        "#Cabeçalho dos dados\n",
        "dataTreino.head(30)"
      ],
      "execution_count": 0,
      "outputs": []
    },
    {
      "cell_type": "code",
      "metadata": {
        "id": "lVGvVfSjoHjA",
        "colab_type": "code",
        "colab": {}
      },
      "source": [
        "#Criando uma lista \"keyAux\" para guardar todos os dias (sem horários) existentes na base de dados\n",
        "keyAux = []\n",
        "for i in dataTreino[\"date\"].values:\n",
        "  aux = pd.to_datetime(i).date()\n",
        "  keyAux.append(aux)"
      ],
      "execution_count": 0,
      "outputs": []
    },
    {
      "cell_type": "code",
      "metadata": {
        "id": "gLew0B1vnCVD",
        "colab_type": "code",
        "colab": {}
      },
      "source": [
        "#Transformando os dados de uma base de dados horária para dados diários, tornando possível a modelagem do problema\n",
        "dataTreino[\"dataIndex\"] = pd.Series(keyAux)\n",
        "dataTrain = pd.DataFrame(index = pd.Series(keyAux).drop_duplicates())\n",
        "dados = ['prec', 'tair', 'tw', 'tmax', 'tmin', 'urmax', 'patm', 'pnmm', 'wd', 'wsmax', 'n', 'cc', 'evap', 'ur', 'ws']\n",
        "for i in dados:\n",
        "  dataTrain[i] = np.nan\n",
        "for i in dataTrain.index:\n",
        "  aux = dataTreino[dataTreino[\"dataIndex\"] == i][dados]\n",
        "  for j in dados:\n",
        "    dataTrain.loc[i, j] = max(aux[j])"
      ],
      "execution_count": 0,
      "outputs": []
    },
    {
      "cell_type": "code",
      "metadata": {
        "id": "rge22C8z0jM2",
        "colab_type": "code",
        "colab": {}
      },
      "source": [
        "#Eliminando dados em que não exista uma medida de velocidade do vento existente -> sendo, portanto, impossível de comparar o resultado\n",
        "dataTrain = dataTrain.dropna(subset = [\"ws\"]).reset_index(drop = True)"
      ],
      "execution_count": 0,
      "outputs": []
    },
    {
      "cell_type": "code",
      "metadata": {
        "id": "4eFPJDYIqezw",
        "colab_type": "code",
        "colab": {}
      },
      "source": [
        "#Descrição estatística para base de dados\n",
        "dataTrain.describe()"
      ],
      "execution_count": 0,
      "outputs": []
    },
    {
      "cell_type": "code",
      "metadata": {
        "id": "YWWYVLJjumtW",
        "colab_type": "code",
        "colab": {}
      },
      "source": [
        "#Separando velocidade do vento da base de dados\n",
        "velVento = dataTreino[\"ws\"]\n",
        "dataTrain = dataTrain.drop(columns = [\"ws\"])"
      ],
      "execution_count": 0,
      "outputs": []
    },
    {
      "cell_type": "code",
      "metadata": {
        "id": "q4uC352vvGNp",
        "colab_type": "code",
        "colab": {}
      },
      "source": [
        "#Cabeçalho de nova base de dados\n",
        "dataTrain.head()"
      ],
      "execution_count": 0,
      "outputs": []
    },
    {
      "cell_type": "code",
      "metadata": {
        "id": "nP5hYKctvdGa",
        "colab_type": "code",
        "colab": {}
      },
      "source": [
        "#Fazendo uma transformação por Score-Z\n",
        "sc = StandardScaler()\n",
        "dataTrain = pd.DataFrame(sc.fit_transform(dataTrain), columns = dataTrain.columns)"
      ],
      "execution_count": 0,
      "outputs": []
    },
    {
      "cell_type": "code",
      "metadata": {
        "id": "z6F0ZnGDvtpP",
        "colab_type": "code",
        "colab": {}
      },
      "source": [
        "#Nova descrição nos dados\n",
        "dataTrain.describe()"
      ],
      "execution_count": 0,
      "outputs": []
    },
    {
      "cell_type": "code",
      "metadata": {
        "id": "_fQR9bvYvxh-",
        "colab_type": "code",
        "colab": {}
      },
      "source": [
        "#Transformando \"NaN\" em 0 (nesse caso, o 0 se torna não prejudicial para o modelo de rede neural utilizado, devido a função de ativação ser do tipo tanh)\n",
        "dataTrain = dataTrain.fillna(0)"
      ],
      "execution_count": 0,
      "outputs": []
    },
    {
      "cell_type": "code",
      "metadata": {
        "id": "mlz3KqOrv3Pf",
        "colab_type": "code",
        "colab": {}
      },
      "source": [
        "#Verificando o grau de informação mantido, ao reduzir o problema de 14 dimensões para 10 dimensões através de PCA\n",
        "pca = PCA(14)\n",
        "pca.fit(dataTrain)\n",
        "autovalores = pca.explained_variance_\n",
        "print(\"Grau de informação preservado: \" + str(sum(autovalores[:10]) / sum(autovalores)))"
      ],
      "execution_count": 0,
      "outputs": []
    },
    {
      "cell_type": "code",
      "metadata": {
        "id": "Q5BRJpSCzTdv",
        "colab_type": "code",
        "colab": {}
      },
      "source": [
        "#Reduzindo para 10 dimensões a base de dados através de PCA\n",
        "pca = PCA(10)\n",
        "dadosTransformados = pd.DataFrame(pca.fit_transform(dataTrain), columns = [\"PC1\",\"PC2\",\"PC3\",\"PC4\",\"PC5\",\"PC6\",\"PC7\",\"PC8\",\"PC9\",\"PC10\"])"
      ],
      "execution_count": 0,
      "outputs": []
    },
    {
      "cell_type": "code",
      "metadata": {
        "id": "I54Z7vZQz4O3",
        "colab_type": "code",
        "colab": {}
      },
      "source": [
        "#Dimensão de nova base de dados\n",
        "dadosTransformados.shape"
      ],
      "execution_count": 0,
      "outputs": []
    },
    {
      "cell_type": "code",
      "metadata": {
        "id": "096BHHVh2l1q",
        "colab_type": "code",
        "colab": {}
      },
      "source": [
        "#Colocando a velocidade do vento de volta na base de dados\n",
        "dadosTransformados = dadosTransformados.join(velVento)"
      ],
      "execution_count": 0,
      "outputs": []
    },
    {
      "cell_type": "code",
      "metadata": {
        "id": "2OuV7XrM0SwV",
        "colab_type": "code",
        "colab": {}
      },
      "source": [
        "#Cabeçalho de nova base de dados\n",
        "dadosTransformados.head()"
      ],
      "execution_count": 0,
      "outputs": []
    },
    {
      "cell_type": "code",
      "metadata": {
        "id": "qQ4C6dIm4FQb",
        "colab_type": "code",
        "colab": {}
      },
      "source": [
        "#Descrição de nova base de dados\n",
        "dadosTransformados.describe()"
      ],
      "execution_count": 0,
      "outputs": []
    },
    {
      "cell_type": "code",
      "metadata": {
        "id": "ztM-Ru7k3sCR",
        "colab_type": "code",
        "colab": {}
      },
      "source": [
        "from keras.models import Sequential\n",
        "from keras.layers import Dense\n",
        "from keras.layers import LSTM\n",
        "from sklearn.metrics import mean_absolute_error\n",
        "from sklearn.metrics import mean_squared_error\n",
        "from sklearn.model_selection import train_test_split"
      ],
      "execution_count": 0,
      "outputs": []
    },
    {
      "cell_type": "code",
      "metadata": {
        "id": "GSd7yn0v5riI",
        "colab_type": "code",
        "colab": {}
      },
      "source": [
        "#Preparando dados para a LSTM\n",
        "x_train, y_train = [], []\n",
        "for i in range(3,len(dadosTransformados)):\n",
        "    local = dadosTransformados.iloc[(i-3):(i-1)]\n",
        "    local = local.append(dadosTransformados.loc[i - 1, [\"PC1\",\"PC2\",\"PC3\",\"PC4\",\"PC5\",\"PC6\",\"PC7\",\"PC8\",\"PC9\",\"PC10\"]])\n",
        "    x_train.append(np.array(local))\n",
        "    ws = dadosTransformados.loc[i - 1, \"ws\"]\n",
        "    y_train.append(np.array(ws))"
      ],
      "execution_count": 0,
      "outputs": []
    },
    {
      "cell_type": "code",
      "metadata": {
        "id": "C-LE8OHs9Xhv",
        "colab_type": "code",
        "colab": {}
      },
      "source": [
        "#Transformando x_train e y_train em numpyArray\n",
        "x_train, y_train = np.array(x_train), np.array(y_train)"
      ],
      "execution_count": 0,
      "outputs": []
    },
    {
      "cell_type": "code",
      "metadata": {
        "id": "Ghr8OFGx9afS",
        "colab_type": "code",
        "colab": {}
      },
      "source": [
        "#Dimensões da base de dados de entrada para treino\n",
        "x_train.shape"
      ],
      "execution_count": 0,
      "outputs": []
    },
    {
      "cell_type": "code",
      "metadata": {
        "id": "-kiv5AHR9dat",
        "colab_type": "code",
        "colab": {}
      },
      "source": [
        "#Dimensões da base de dados de saída para treino\n",
        "y_train.shape"
      ],
      "execution_count": 0,
      "outputs": []
    },
    {
      "cell_type": "code",
      "metadata": {
        "id": "lcreGycq9ims",
        "colab_type": "code",
        "colab": {}
      },
      "source": [
        "#Substituindo NaN por 0\n",
        "x_train = np.nan_to_num(x_train)\n",
        "y_train = np.nan_to_num(y_train).reshape(-1,1)"
      ],
      "execution_count": 0,
      "outputs": []
    },
    {
      "cell_type": "code",
      "metadata": {
        "id": "Ka4KBqji9j4a",
        "colab_type": "code",
        "colab": {}
      },
      "source": [
        "#Separando 10% de dados para teste e 90% para treino\n",
        "x_train, x_test, y_train, y_test = train_test_split(x_train, y_train, test_size = 0.1, random_state = 15)"
      ],
      "execution_count": 0,
      "outputs": []
    },
    {
      "cell_type": "code",
      "metadata": {
        "id": "fv_u5Ghf9oBE",
        "colab_type": "code",
        "colab": {}
      },
      "source": [
        "#Criando o modelo de previsão do tipo sequential, com uma rede neural do tipo LSTM\n",
        "regressor = Sequential()\n",
        "regressor.add(LSTM(activation = \"tanh\", units = 30, return_sequences = True, input_shape = (x_train.shape[1], x_train.shape[2])))\n",
        "regressor.add(LSTM(activation = \"tanh\", units = 30, return_sequences = True))\n",
        "regressor.add(LSTM(activation = \"tanh\", units = 30))\n",
        "regressor.add(Dense(units = y_train.shape[1]))"
      ],
      "execution_count": 0,
      "outputs": []
    },
    {
      "cell_type": "code",
      "metadata": {
        "id": "nSS-Vwiw-N7I",
        "colab_type": "code",
        "colab": {}
      },
      "source": [
        "#Compilando a rede neural\n",
        "regressor.compile(optimizer = \"adam\", loss='mse', metrics=['mae'])"
      ],
      "execution_count": 0,
      "outputs": []
    },
    {
      "cell_type": "code",
      "metadata": {
        "id": "RMkM96Sf-R-C",
        "colab_type": "code",
        "colab": {}
      },
      "source": [
        "#Treinamento com 30 epochs\n",
        "hist = regressor.fit(x_train, y_train, epochs = 30, validation_data=(x_test, y_test))"
      ],
      "execution_count": 0,
      "outputs": []
    },
    {
      "cell_type": "code",
      "metadata": {
        "id": "bwrKdPhNDyTC",
        "colab_type": "code",
        "colab": {}
      },
      "source": [
        "#Avaliando o MAE, RMSE e o Coef. de Corr. de Pearson (R)\n",
        "print(\"MAE : \" + str(mean_absolute_error(y_test[:,0], regressor.predict(x_test)[:,0])))\n",
        "print(\"RMSE : \" + str((mean_squared_error(y_test[:,0], regressor.predict(x_test)[:,0])) ** 0.5))\n",
        "print(\"R : \" + str(np.corrcoef(y_test[:,0], regressor.predict(x_test)[:,0])[0][1]))"
      ],
      "execution_count": 0,
      "outputs": []
    }
  ]
}