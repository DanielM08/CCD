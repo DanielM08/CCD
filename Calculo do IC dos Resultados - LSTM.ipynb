{
 "cells": [
  {
   "cell_type": "code",
   "execution_count": 1,
   "metadata": {},
   "outputs": [],
   "source": [
    "import pandas as pd\n",
    "import numpy as np"
   ]
  },
  {
   "cell_type": "code",
   "execution_count": 2,
   "metadata": {},
   "outputs": [],
   "source": [
    "dataSet = pd.read_csv(\"Resultados.csv\")"
   ]
  },
  {
   "cell_type": "code",
   "execution_count": 11,
   "metadata": {},
   "outputs": [],
   "source": [
    "analiseEstatistica = dataSet.describe()"
   ]
  },
  {
   "cell_type": "markdown",
   "metadata": {},
   "source": [
    "# Intervalo de Confiança: \n",
    "IC = Mean +/- (Za/2 * S / raiz de n)\n",
    "<br> Considerando a = 5% => Za/2 = -1.96"
   ]
  },
  {
   "cell_type": "code",
   "execution_count": 18,
   "metadata": {},
   "outputs": [
    {
     "name": "stdout",
     "output_type": "stream",
     "text": [
      "IC = 0.9868439713140041 +/- 0.003801373039326856\n"
     ]
    }
   ],
   "source": [
    "#PCA-Ratio\n",
    "Za2 = -1.96\n",
    "raizN = len(dataSet) ** 0.5\n",
    "std = analiseEstatistica.loc[\"std\", \" PCA-Ratio\"]\n",
    "mean = analiseEstatistica.loc[\"mean\", \" PCA-Ratio\"]\n",
    "print(\"IC = \" + str(mean) + \" +/- \" + str(abs((Za2 * std / raizN))))"
   ]
  },
  {
   "cell_type": "code",
   "execution_count": 19,
   "metadata": {},
   "outputs": [
    {
     "name": "stdout",
     "output_type": "stream",
     "text": [
      "IC = 0.3281810423533591 +/- 0.05813938902765767\n"
     ]
    }
   ],
   "source": [
    "#MAE\n",
    "Za2 = -1.96\n",
    "raizN = len(dataSet) ** 0.5\n",
    "std = analiseEstatistica.loc[\"std\", \" MAE\"]\n",
    "mean = analiseEstatistica.loc[\"mean\", \" MAE\"]\n",
    "print(\"IC = \" + str(mean) + \" +/- \" + str(abs((Za2 * std / raizN))))"
   ]
  },
  {
   "cell_type": "code",
   "execution_count": 22,
   "metadata": {},
   "outputs": [
    {
     "data": {
      "text/html": [
       "<div>\n",
       "<style scoped>\n",
       "    .dataframe tbody tr th:only-of-type {\n",
       "        vertical-align: middle;\n",
       "    }\n",
       "\n",
       "    .dataframe tbody tr th {\n",
       "        vertical-align: top;\n",
       "    }\n",
       "\n",
       "    .dataframe thead th {\n",
       "        text-align: right;\n",
       "    }\n",
       "</style>\n",
       "<table border=\"1\" class=\"dataframe\">\n",
       "  <thead>\n",
       "    <tr style=\"text-align: right;\">\n",
       "      <th></th>\n",
       "      <th>PCA-Ratio</th>\n",
       "      <th>MAE</th>\n",
       "      <th>RMSE</th>\n",
       "      <th>R</th>\n",
       "    </tr>\n",
       "  </thead>\n",
       "  <tbody>\n",
       "    <tr>\n",
       "      <td>count</td>\n",
       "      <td>27.000000</td>\n",
       "      <td>27.000000</td>\n",
       "      <td>27.000000</td>\n",
       "      <td>27.000000</td>\n",
       "    </tr>\n",
       "    <tr>\n",
       "      <td>mean</td>\n",
       "      <td>0.986844</td>\n",
       "      <td>0.328181</td>\n",
       "      <td>0.689410</td>\n",
       "      <td>0.782459</td>\n",
       "    </tr>\n",
       "    <tr>\n",
       "      <td>std</td>\n",
       "      <td>0.010078</td>\n",
       "      <td>0.154133</td>\n",
       "      <td>0.285767</td>\n",
       "      <td>0.101306</td>\n",
       "    </tr>\n",
       "    <tr>\n",
       "      <td>min</td>\n",
       "      <td>0.964483</td>\n",
       "      <td>0.093824</td>\n",
       "      <td>0.164854</td>\n",
       "      <td>0.437573</td>\n",
       "    </tr>\n",
       "    <tr>\n",
       "      <td>25%</td>\n",
       "      <td>0.979479</td>\n",
       "      <td>0.204845</td>\n",
       "      <td>0.450798</td>\n",
       "      <td>0.730835</td>\n",
       "    </tr>\n",
       "    <tr>\n",
       "      <td>50%</td>\n",
       "      <td>0.986613</td>\n",
       "      <td>0.316030</td>\n",
       "      <td>0.685785</td>\n",
       "      <td>0.809443</td>\n",
       "    </tr>\n",
       "    <tr>\n",
       "      <td>75%</td>\n",
       "      <td>0.996022</td>\n",
       "      <td>0.439716</td>\n",
       "      <td>0.914035</td>\n",
       "      <td>0.839993</td>\n",
       "    </tr>\n",
       "    <tr>\n",
       "      <td>max</td>\n",
       "      <td>1.000000</td>\n",
       "      <td>0.741237</td>\n",
       "      <td>1.410789</td>\n",
       "      <td>0.919412</td>\n",
       "    </tr>\n",
       "  </tbody>\n",
       "</table>\n",
       "</div>"
      ],
      "text/plain": [
       "        PCA-Ratio        MAE       RMSE          R\n",
       "count   27.000000  27.000000  27.000000  27.000000\n",
       "mean     0.986844   0.328181   0.689410   0.782459\n",
       "std      0.010078   0.154133   0.285767   0.101306\n",
       "min      0.964483   0.093824   0.164854   0.437573\n",
       "25%      0.979479   0.204845   0.450798   0.730835\n",
       "50%      0.986613   0.316030   0.685785   0.809443\n",
       "75%      0.996022   0.439716   0.914035   0.839993\n",
       "max      1.000000   0.741237   1.410789   0.919412"
      ]
     },
     "execution_count": 22,
     "metadata": {},
     "output_type": "execute_result"
    }
   ],
   "source": [
    "analiseEstatistica"
   ]
  },
  {
   "cell_type": "code",
   "execution_count": 20,
   "metadata": {
    "scrolled": false
   },
   "outputs": [
    {
     "name": "stdout",
     "output_type": "stream",
     "text": [
      "IC = 0.6894097567707633 +/- 0.10779204647931387\n"
     ]
    }
   ],
   "source": [
    "#RMSE\n",
    "Za2 = -1.96\n",
    "raizN = len(dataSet) ** 0.5\n",
    "std = analiseEstatistica.loc[\"std\", \" RMSE\"]\n",
    "mean = analiseEstatistica.loc[\"mean\", \" RMSE\"]\n",
    "print(\"IC = \" + str(mean) + \" +/- \" + str(abs((Za2 * std / raizN))))"
   ]
  },
  {
   "cell_type": "code",
   "execution_count": 21,
   "metadata": {},
   "outputs": [
    {
     "name": "stdout",
     "output_type": "stream",
     "text": [
      "IC = 0.7824592959181345 +/- 0.03821271017975993\n"
     ]
    }
   ],
   "source": [
    "#Coeficiente de Correlação de Pearson\n",
    "Za2 = -1.96\n",
    "raizN = len(dataSet) ** 0.5\n",
    "std = analiseEstatistica.loc[\"std\", \" R\"]\n",
    "mean = analiseEstatistica.loc[\"mean\", \" R\"]\n",
    "print(\"IC = \" + str(mean) + \" +/- \" + str(abs((Za2 * std / raizN))))"
   ]
  }
 ],
 "metadata": {
  "kernelspec": {
   "display_name": "Python 3",
   "language": "python",
   "name": "python3"
  },
  "language_info": {
   "codemirror_mode": {
    "name": "ipython",
    "version": 3
   },
   "file_extension": ".py",
   "mimetype": "text/x-python",
   "name": "python",
   "nbconvert_exporter": "python",
   "pygments_lexer": "ipython3",
   "version": "3.7.4"
  }
 },
 "nbformat": 4,
 "nbformat_minor": 2
}
