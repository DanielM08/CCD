{
 "cells": [
  {
   "cell_type": "code",
   "execution_count": 1,
   "metadata": {},
   "outputs": [],
   "source": [
    "import pandas as pd\n",
    "import numpy as np"
   ]
  },
  {
   "cell_type": "code",
   "execution_count": 3,
   "metadata": {},
   "outputs": [],
   "source": [
    "# Leitura dos metadados\n",
    "meta = pd.read_csv('bdmep_meta.csv')\n",
    "\n",
    "# Leitura dos dados com observações de vento\n",
    "data = pd.read_csv('inmetr.csv')"
   ]
  },
  {
   "cell_type": "code",
   "execution_count": 4,
   "metadata": {},
   "outputs": [],
   "source": [
    "data['name'] = '' # Cria coluna para inserção depois do nome da cidade\n",
    "\n",
    "data['uf'] = '' # Cria coluna para inserção depois do estado"
   ]
  },
  {
   "cell_type": "code",
   "execution_count": 5,
   "metadata": {},
   "outputs": [],
   "source": [
    "ids = meta['id'].unique()"
   ]
  },
  {
   "cell_type": "code",
   "execution_count": 6,
   "metadata": {},
   "outputs": [],
   "source": [
    "# Substitui nas colunas que foram criadas acima os respectivos nomes de cidade\n",
    "# e nome do estado fazendo correlação com o ID do metadado que ocorre também\n",
    "# no dataframe de observações\n",
    "\n",
    "for idx in range(len(ids)):\n",
    "    data['name'] = np.where(data['id'] == ids[idx],\n",
    "                            (meta[meta['id'] == ids[idx]]).name,\n",
    "                            data.name)\n",
    "    data['uf'] = np.where(data['id'] == ids[idx],\n",
    "                          (meta[meta['id'] == ids[idx]]).uf,\n",
    "                           data.uf)"
   ]
  },
  {
   "cell_type": "code",
   "execution_count": 7,
   "metadata": {},
   "outputs": [],
   "source": [
    "states = meta['uf'].unique() # Cria uma lista com os nomes únicos de todos os estados"
   ]
  },
  {
   "cell_type": "code",
   "execution_count": 8,
   "metadata": {},
   "outputs": [],
   "source": [
    "for state in states: # Separa a base de dados por estado\n",
    "    (data[data['uf'] == state]).to_csv(state + \".csv\")"
   ]
  },
  {
   "cell_type": "code",
   "execution_count": 11,
   "metadata": {},
   "outputs": [
    {
     "data": {
      "text/plain": [
       "Index(['date', 'id', 'prec', 'tair', 'tw', 'tmax', 'tmin', 'urmax', 'patm',\n",
       "       'pnmm', 'wd', 'wsmax', 'n', 'cc', 'evap', 'ur', 'ws', 'name', 'uf'],\n",
       "      dtype='object')"
      ]
     },
     "execution_count": 11,
     "metadata": {},
     "output_type": "execute_result"
    }
   ],
   "source": [
    "data.columns"
   ]
  },
  {
   "cell_type": "code",
   "execution_count": 12,
   "metadata": {},
   "outputs": [
    {
     "name": "stderr",
     "output_type": "stream",
     "text": [
      "/home/marcos/anaconda3/lib/python3.7/site-packages/pandas/core/frame.py:3940: SettingWithCopyWarning: \n",
      "A value is trying to be set on a copy of a slice from a DataFrame\n",
      "\n",
      "See the caveats in the documentation: http://pandas.pydata.org/pandas-docs/stable/indexing.html#indexing-view-versus-copy\n",
      "  errors=errors)\n"
     ]
    }
   ],
   "source": [
    "# Elimina colunas que não vão ser necessárias para análise do vento por estado\n",
    "for state in states: \n",
    "    temp = data[data['uf'] == state]\n",
    "    temp.drop(columns = ['prec', 'tair', 'tw', 'tmax', 'tmin', 'urmax', 'patm',\n",
    "                         'pnmm', 'n', 'cc', 'evap', 'ur'], inplace = True)\n",
    "    temp.to_csv('Clip/clip_' + state + '.csv')"
   ]
  },
  {
   "cell_type": "code",
   "execution_count": 13,
   "metadata": {},
   "outputs": [],
   "source": [
    "# Elimina colunas que não vão ser necessárias para análise do vento e salva\n",
    "# em um dataframe único\n",
    "\n",
    "wind = data.drop(columns = ['prec', 'tair', 'tw', 'tmax', 'tmin', 'urmax', 'patm',\n",
    "                            'pnmm', 'n', 'cc', 'evap', 'ur'])\n",
    "\n",
    "wind.to_csv('wind_only.csv')"
   ]
  }
 ],
 "metadata": {
  "kernelspec": {
   "display_name": "Python 3",
   "language": "python",
   "name": "python3"
  },
  "language_info": {
   "codemirror_mode": {
    "name": "ipython",
    "version": 3
   },
   "file_extension": ".py",
   "mimetype": "text/x-python",
   "name": "python",
   "nbconvert_exporter": "python",
   "pygments_lexer": "ipython3",
   "version": "3.7.3"
  }
 },
 "nbformat": 4,
 "nbformat_minor": 2
}
