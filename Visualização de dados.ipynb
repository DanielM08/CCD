{
 "cells": [
  {
   "cell_type": "code",
   "execution_count": 173,
   "metadata": {
    "collapsed": true
   },
   "outputs": [
    {
     "name": "stdout",
     "output_type": "stream",
     "text": [
      "Collecting geopandas\n",
      "\u001b[?25l  Downloading https://files.pythonhosted.org/packages/59/39/de0263d511d4fc35a640cf00d02e497eb60698315a22936bedbdd904d7f7/geopandas-0.6.1-py2.py3-none-any.whl (918kB)\n",
      "\u001b[K     |████████████████████████████████| 921kB 463kB/s eta 0:00:01\n",
      "\u001b[?25hRequirement already satisfied: pandas>=0.23.0 in /home/danielmarx/anaconda3/lib/python3.6/site-packages (from geopandas) (0.23.0)\n",
      "Collecting fiona (from geopandas)\n",
      "\u001b[?25l  Downloading https://files.pythonhosted.org/packages/19/80/09aa6ba5e4ed3f07ddbd2204634b119cb50ae613aa182c6ee7daff3adc9b/Fiona-1.8.9.post2-cp36-cp36m-manylinux1_x86_64.whl (11.9MB)\n",
      "\u001b[K     |████████████████████████████████| 11.9MB 767kB/s eta 0:00:01\n",
      "\u001b[?25hCollecting shapely (from geopandas)\n",
      "\u001b[?25l  Downloading https://files.pythonhosted.org/packages/38/b6/b53f19062afd49bb5abd049aeed36f13bf8d57ef8f3fa07a5203531a0252/Shapely-1.6.4.post2-cp36-cp36m-manylinux1_x86_64.whl (1.5MB)\n",
      "\u001b[K     |████████████████████████████████| 1.5MB 1.6MB/s eta 0:00:01\n",
      "\u001b[?25hCollecting pyproj (from geopandas)\n",
      "\u001b[?25l  Downloading https://files.pythonhosted.org/packages/7a/b1/ab67ad924770e1c1432fa0953a665b8ea193b60c7494457b69da052d6e83/pyproj-2.4.0-cp36-cp36m-manylinux1_x86_64.whl (10.1MB)\n",
      "\u001b[K     |████████████████████████████████| 10.1MB 699kB/s eta 0:00:01\n",
      "\u001b[?25hRequirement already satisfied: python-dateutil>=2.5.0 in /home/danielmarx/anaconda3/lib/python3.6/site-packages (from pandas>=0.23.0->geopandas) (2.7.3)\n",
      "Requirement already satisfied: pytz>=2011k in /home/danielmarx/anaconda3/lib/python3.6/site-packages (from pandas>=0.23.0->geopandas) (2018.4)\n",
      "Requirement already satisfied: numpy>=1.9.0 in /home/danielmarx/.local/lib/python3.6/site-packages (from pandas>=0.23.0->geopandas) (1.14.5)\n",
      "Requirement already satisfied: six>=1.7 in /home/danielmarx/.local/lib/python3.6/site-packages (from fiona->geopandas) (1.11.0)\n",
      "Collecting click-plugins>=1.0 (from fiona->geopandas)\n",
      "  Downloading https://files.pythonhosted.org/packages/e9/da/824b92d9942f4e472702488857914bdd50f73021efea15b4cad9aca8ecef/click_plugins-1.1.1-py2.py3-none-any.whl\n",
      "Requirement already satisfied: attrs>=17 in /home/danielmarx/anaconda3/lib/python3.6/site-packages (from fiona->geopandas) (18.1.0)\n",
      "Requirement already satisfied: click<8,>=4.0 in /home/danielmarx/anaconda3/lib/python3.6/site-packages (from fiona->geopandas) (6.7)\n",
      "Collecting cligj>=0.5 (from fiona->geopandas)\n",
      "  Downloading https://files.pythonhosted.org/packages/e4/be/30a58b4b0733850280d01f8bd132591b4668ed5c7046761098d665ac2174/cligj-0.5.0-py3-none-any.whl\n",
      "Collecting munch (from fiona->geopandas)\n",
      "  Downloading https://files.pythonhosted.org/packages/68/f4/260ec98ea840757a0da09e0ed8135333d59b8dfebe9752a365b04857660a/munch-2.3.2.tar.gz\n",
      "Building wheels for collected packages: munch\n",
      "  Building wheel for munch (setup.py) ... \u001b[?25ldone\n",
      "\u001b[?25h  Created wheel for munch: filename=munch-2.3.2-py2.py3-none-any.whl size=5793 sha256=994ec1ef7d83e9e2fe86f5a446f8a14df4702e80de47b5c91ea3623803cfd478\n",
      "  Stored in directory: /home/danielmarx/.cache/pip/wheels/db/bf/bc/06a3e1bfe0ab27d2e720ceb3cff3159398d92644c0cec2c125\n",
      "Successfully built munch\n",
      "Installing collected packages: click-plugins, cligj, munch, fiona, shapely, pyproj, geopandas\n",
      "Successfully installed click-plugins-1.1.1 cligj-0.5.0 fiona-1.8.9.post2 geopandas-0.6.1 munch-2.3.2 pyproj-2.4.0 shapely-1.6.4.post2\n",
      "\u001b[33mWARNING: You are using pip version 19.2.2, however version 19.3.1 is available.\n",
      "You should consider upgrading via the 'pip install --upgrade pip' command.\u001b[0m\n"
     ]
    }
   ],
   "source": [
    "!pip install geopandas"
   ]
  },
  {
   "cell_type": "code",
   "execution_count": 180,
   "metadata": {},
   "outputs": [
    {
     "name": "stdout",
     "output_type": "stream",
     "text": [
      "Collecting descartes\n",
      "  Downloading https://files.pythonhosted.org/packages/e5/b6/1ed2eb03989ae574584664985367ba70cd9cf8b32ee8cad0e8aaeac819f3/descartes-1.1.0-py3-none-any.whl\n",
      "Requirement already satisfied: matplotlib in /home/danielmarx/anaconda3/lib/python3.6/site-packages (from descartes) (2.2.2)\n",
      "Requirement already satisfied: numpy>=1.7.1 in /home/danielmarx/.local/lib/python3.6/site-packages (from matplotlib->descartes) (1.14.5)\n",
      "Requirement already satisfied: cycler>=0.10 in /home/danielmarx/anaconda3/lib/python3.6/site-packages (from matplotlib->descartes) (0.10.0)\n",
      "Requirement already satisfied: pyparsing!=2.0.4,!=2.1.2,!=2.1.6,>=2.0.1 in /home/danielmarx/anaconda3/lib/python3.6/site-packages (from matplotlib->descartes) (2.2.0)\n",
      "Requirement already satisfied: python-dateutil>=2.1 in /home/danielmarx/anaconda3/lib/python3.6/site-packages (from matplotlib->descartes) (2.7.3)\n",
      "Requirement already satisfied: pytz in /home/danielmarx/anaconda3/lib/python3.6/site-packages (from matplotlib->descartes) (2018.4)\n",
      "Requirement already satisfied: six>=1.10 in /home/danielmarx/.local/lib/python3.6/site-packages (from matplotlib->descartes) (1.11.0)\n",
      "Requirement already satisfied: kiwisolver>=1.0.1 in /home/danielmarx/anaconda3/lib/python3.6/site-packages (from matplotlib->descartes) (1.0.1)\n",
      "Requirement already satisfied: setuptools in /home/danielmarx/.local/lib/python3.6/site-packages (from kiwisolver>=1.0.1->matplotlib->descartes) (39.2.0)\n",
      "Installing collected packages: descartes\n",
      "Successfully installed descartes-1.1.0\n",
      "\u001b[33mWARNING: You are using pip version 19.2.2, however version 19.3.1 is available.\n",
      "You should consider upgrading via the 'pip install --upgrade pip' command.\u001b[0m\n"
     ]
    }
   ],
   "source": [
    "!pip install descartes"
   ]
  },
  {
   "cell_type": "code",
   "execution_count": 1,
   "metadata": {},
   "outputs": [],
   "source": [
    "import pandas as pd\n",
    "import numpy as np\n",
    "import matplotlib.pyplot as plt\n",
    "import geopandas"
   ]
  },
  {
   "cell_type": "code",
   "execution_count": 2,
   "metadata": {},
   "outputs": [],
   "source": [
    "meta = pd.read_csv('bdmep_meta.csv')"
   ]
  },
  {
   "cell_type": "code",
   "execution_count": 3,
   "metadata": {},
   "outputs": [
    {
     "name": "stdout",
     "output_type": "stream",
     "text": [
      "<class 'pandas.core.frame.DataFrame'>\n",
      "RangeIndex: 389 entries, 0 to 388\n",
      "Data columns (total 11 columns):\n",
      "id              389 non-null int64\n",
      "lon             389 non-null float64\n",
      "lat             389 non-null float64\n",
      "alt             389 non-null float64\n",
      "name            389 non-null object\n",
      "state           389 non-null object\n",
      "uf              389 non-null object\n",
      "time_zone       389 non-null object\n",
      "offset_utc      389 non-null int64\n",
      "time_zone.1     389 non-null object\n",
      "offset_utc.1    389 non-null int64\n",
      "dtypes: float64(3), int64(3), object(5)\n",
      "memory usage: 33.5+ KB\n"
     ]
    }
   ],
   "source": [
    "meta.info()"
   ]
  },
  {
   "cell_type": "code",
   "execution_count": 7,
   "metadata": {},
   "outputs": [],
   "source": [
    "#Objeto pandas, especificando-se as latitudes e longitudes a serem plotadas\n",
    "gdf = geopandas.GeoDataFrame(\n",
    "    meta, geometry=geopandas.points_from_xy(meta.lon, meta.lat))"
   ]
  },
  {
   "cell_type": "code",
   "execution_count": 9,
   "metadata": {},
   "outputs": [
    {
     "data": {
      "text/html": [
       "<div>\n",
       "<style scoped>\n",
       "    .dataframe tbody tr th:only-of-type {\n",
       "        vertical-align: middle;\n",
       "    }\n",
       "\n",
       "    .dataframe tbody tr th {\n",
       "        vertical-align: top;\n",
       "    }\n",
       "\n",
       "    .dataframe thead th {\n",
       "        text-align: right;\n",
       "    }\n",
       "</style>\n",
       "<table border=\"1\" class=\"dataframe\">\n",
       "  <thead>\n",
       "    <tr style=\"text-align: right;\">\n",
       "      <th></th>\n",
       "      <th>id</th>\n",
       "      <th>lon</th>\n",
       "      <th>lat</th>\n",
       "      <th>alt</th>\n",
       "      <th>name</th>\n",
       "      <th>state</th>\n",
       "      <th>uf</th>\n",
       "      <th>time_zone</th>\n",
       "      <th>offset_utc</th>\n",
       "      <th>time_zone.1</th>\n",
       "      <th>offset_utc.1</th>\n",
       "      <th>geometry</th>\n",
       "    </tr>\n",
       "  </thead>\n",
       "  <tbody>\n",
       "    <tr>\n",
       "      <th>0</th>\n",
       "      <td>83010</td>\n",
       "      <td>-68.733333</td>\n",
       "      <td>-11.016667</td>\n",
       "      <td>260.00</td>\n",
       "      <td>Brasiléia</td>\n",
       "      <td>Acre</td>\n",
       "      <td>AC</td>\n",
       "      <td>America/Rio_Branco</td>\n",
       "      <td>-5</td>\n",
       "      <td>America/Rio_Branco</td>\n",
       "      <td>-5</td>\n",
       "      <td>POINT (-68.73333333333331 -11.0166666666667)</td>\n",
       "    </tr>\n",
       "    <tr>\n",
       "      <th>1</th>\n",
       "      <td>82704</td>\n",
       "      <td>-72.666667</td>\n",
       "      <td>-7.633333</td>\n",
       "      <td>170.00</td>\n",
       "      <td>Cruzeiro do Sul</td>\n",
       "      <td>Acre</td>\n",
       "      <td>AC</td>\n",
       "      <td>America/Rio_Branco</td>\n",
       "      <td>-5</td>\n",
       "      <td>America/Rio_Branco</td>\n",
       "      <td>-5</td>\n",
       "      <td>POINT (-72.6666666666667 -7.63333333333333)</td>\n",
       "    </tr>\n",
       "    <tr>\n",
       "      <th>2</th>\n",
       "      <td>82915</td>\n",
       "      <td>-67.800000</td>\n",
       "      <td>-9.966667</td>\n",
       "      <td>160.00</td>\n",
       "      <td>Rio Branco</td>\n",
       "      <td>Acre</td>\n",
       "      <td>AC</td>\n",
       "      <td>America/Rio_Branco</td>\n",
       "      <td>-5</td>\n",
       "      <td>America/Rio_Branco</td>\n",
       "      <td>-5</td>\n",
       "      <td>POINT (-67.8 -9.96666666666667)</td>\n",
       "    </tr>\n",
       "    <tr>\n",
       "      <th>3</th>\n",
       "      <td>82807</td>\n",
       "      <td>-70.766667</td>\n",
       "      <td>-8.166667</td>\n",
       "      <td>190.00</td>\n",
       "      <td>Tarauacá</td>\n",
       "      <td>Acre</td>\n",
       "      <td>AC</td>\n",
       "      <td>America/Rio_Branco</td>\n",
       "      <td>-5</td>\n",
       "      <td>America/Rio_Branco</td>\n",
       "      <td>-5</td>\n",
       "      <td>POINT (-70.76666666666669 -8.16666666666667)</td>\n",
       "    </tr>\n",
       "    <tr>\n",
       "      <th>4</th>\n",
       "      <td>83098</td>\n",
       "      <td>-36.166667</td>\n",
       "      <td>-10.150000</td>\n",
       "      <td>56.13</td>\n",
       "      <td>Coruripe</td>\n",
       "      <td>Alagoas</td>\n",
       "      <td>AL</td>\n",
       "      <td>America/Maceio</td>\n",
       "      <td>-3</td>\n",
       "      <td>America/Maceio</td>\n",
       "      <td>-3</td>\n",
       "      <td>POINT (-36.1666666666667 -10.15)</td>\n",
       "    </tr>\n",
       "  </tbody>\n",
       "</table>\n",
       "</div>"
      ],
      "text/plain": [
       "      id        lon        lat     alt             name    state  uf  \\\n",
       "0  83010 -68.733333 -11.016667  260.00        Brasiléia     Acre  AC   \n",
       "1  82704 -72.666667  -7.633333  170.00  Cruzeiro do Sul     Acre  AC   \n",
       "2  82915 -67.800000  -9.966667  160.00       Rio Branco     Acre  AC   \n",
       "3  82807 -70.766667  -8.166667  190.00         Tarauacá     Acre  AC   \n",
       "4  83098 -36.166667 -10.150000   56.13         Coruripe  Alagoas  AL   \n",
       "\n",
       "            time_zone  offset_utc         time_zone.1  offset_utc.1  \\\n",
       "0  America/Rio_Branco          -5  America/Rio_Branco            -5   \n",
       "1  America/Rio_Branco          -5  America/Rio_Branco            -5   \n",
       "2  America/Rio_Branco          -5  America/Rio_Branco            -5   \n",
       "3  America/Rio_Branco          -5  America/Rio_Branco            -5   \n",
       "4      America/Maceio          -3      America/Maceio            -3   \n",
       "\n",
       "                                       geometry  \n",
       "0  POINT (-68.73333333333331 -11.0166666666667)  \n",
       "1   POINT (-72.6666666666667 -7.63333333333333)  \n",
       "2               POINT (-67.8 -9.96666666666667)  \n",
       "3  POINT (-70.76666666666669 -8.16666666666667)  \n",
       "4              POINT (-36.1666666666667 -10.15)  "
      ]
     },
     "execution_count": 9,
     "metadata": {},
     "output_type": "execute_result"
    }
   ],
   "source": [
    "gdf.head()"
   ]
  },
  {
   "cell_type": "code",
   "execution_count": 8,
   "metadata": {},
   "outputs": [
    {
     "data": {
      "image/png": "[encoded data removed]",
      "text/plain": [
       "<Figure size 432x288 with 1 Axes>"
      ]
     },
     "metadata": {},
     "output_type": "display_data"
    }
   ],
   "source": [
    "#Objeto pandas com o mapa múndi \n",
    "world = geopandas.read_file(geopandas.datasets.get_path('naturalearth_lowres'))\n",
    "\n",
    "#plot limitado ao Brasil\n",
    "ax = world[world.name == 'Brazil'].plot(\n",
    "    color='white', edgecolor='black')\n",
    "\n",
    "gdf.plot(ax=ax, color='red')\n",
    "\n",
    "plt.show()"
   ]
  },
  {
   "cell_type": "code",
   "execution_count": 10,
   "metadata": {},
   "outputs": [],
   "source": [
    "data = [['date', 'data e hora da coleta', '-'], \n",
    "       ['id' ,'ID da estação de coleta', '-'],\n",
    "        ['prec', 'precipitação', 'mm'],\n",
    "   ['tair', 'temperatura do ar', 'graus Celsius'],\n",
    "     ['tw', 'temperatura de bulbo úmido', 'graus Celsius'],\n",
    "   ['tmax', 'temperatura máxima do ar', 'graus Celsius'],\n",
    "   ['tmin', 'temperatura mínima do ar', 'graus Celsius'],\n",
    "  ['urmax', 'umidade relativa máxima', '%'],\n",
    "   ['patm', 'pressão atmosférica', 'hPa'],\n",
    "   ['pnmm', 'pressão atmosférica média ao nível do mar', 'hPa'],\n",
    "     ['wd', 'direção do vento', 'graus'],\n",
    "  ['wsmax', 'rajadas de vento', 'm/s'],\n",
    "      ['n', 'horas de sol', 'h'],\n",
    "     ['cc', 'cobertura de nuvens', '-'],\n",
    "   ['evap ', 'evaporação', 'mm'],\n",
    "     ['ur', 'umidade relativa', '%'],\n",
    "     ['ws', 'velocidade do vento', 'm/s']\n",
    "       ]"
   ]
  },
  {
   "cell_type": "code",
   "execution_count": 11,
   "metadata": {},
   "outputs": [
    {
     "data": {
      "text/html": [
       "<div>\n",
       "<style scoped>\n",
       "    .dataframe tbody tr th:only-of-type {\n",
       "        vertical-align: middle;\n",
       "    }\n",
       "\n",
       "    .dataframe tbody tr th {\n",
       "        vertical-align: top;\n",
       "    }\n",
       "\n",
       "    .dataframe thead th {\n",
       "        text-align: right;\n",
       "    }\n",
       "</style>\n",
       "<table border=\"1\" class=\"dataframe\">\n",
       "  <thead>\n",
       "    <tr style=\"text-align: right;\">\n",
       "      <th></th>\n",
       "      <th>Variável</th>\n",
       "      <th>Descrição</th>\n",
       "      <th>Unidade</th>\n",
       "    </tr>\n",
       "  </thead>\n",
       "  <tbody>\n",
       "    <tr>\n",
       "      <th>0</th>\n",
       "      <td>date</td>\n",
       "      <td>data e hora da coleta</td>\n",
       "      <td>-</td>\n",
       "    </tr>\n",
       "    <tr>\n",
       "      <th>1</th>\n",
       "      <td>id</td>\n",
       "      <td>ID da estação de coleta</td>\n",
       "      <td>-</td>\n",
       "    </tr>\n",
       "    <tr>\n",
       "      <th>2</th>\n",
       "      <td>prec</td>\n",
       "      <td>precipitação</td>\n",
       "      <td>mm</td>\n",
       "    </tr>\n",
       "    <tr>\n",
       "      <th>3</th>\n",
       "      <td>tair</td>\n",
       "      <td>temperatura do ar</td>\n",
       "      <td>graus Celsius</td>\n",
       "    </tr>\n",
       "    <tr>\n",
       "      <th>4</th>\n",
       "      <td>tw</td>\n",
       "      <td>temperatura de bulbo úmido</td>\n",
       "      <td>graus Celsius</td>\n",
       "    </tr>\n",
       "    <tr>\n",
       "      <th>5</th>\n",
       "      <td>tmax</td>\n",
       "      <td>temperatura máxima do ar</td>\n",
       "      <td>graus Celsius</td>\n",
       "    </tr>\n",
       "    <tr>\n",
       "      <th>6</th>\n",
       "      <td>tmin</td>\n",
       "      <td>temperatura mínima do ar</td>\n",
       "      <td>graus Celsius</td>\n",
       "    </tr>\n",
       "    <tr>\n",
       "      <th>7</th>\n",
       "      <td>urmax</td>\n",
       "      <td>umidade relativa máxima</td>\n",
       "      <td>%</td>\n",
       "    </tr>\n",
       "    <tr>\n",
       "      <th>8</th>\n",
       "      <td>patm</td>\n",
       "      <td>pressão atmosférica</td>\n",
       "      <td>hPa</td>\n",
       "    </tr>\n",
       "    <tr>\n",
       "      <th>9</th>\n",
       "      <td>pnmm</td>\n",
       "      <td>pressão atmosférica média ao nível do mar</td>\n",
       "      <td>hPa</td>\n",
       "    </tr>\n",
       "    <tr>\n",
       "      <th>10</th>\n",
       "      <td>wd</td>\n",
       "      <td>direção do vento</td>\n",
       "      <td>graus</td>\n",
       "    </tr>\n",
       "    <tr>\n",
       "      <th>11</th>\n",
       "      <td>wsmax</td>\n",
       "      <td>rajadas de vento</td>\n",
       "      <td>m/s</td>\n",
       "    </tr>\n",
       "    <tr>\n",
       "      <th>12</th>\n",
       "      <td>n</td>\n",
       "      <td>horas de sol</td>\n",
       "      <td>h</td>\n",
       "    </tr>\n",
       "    <tr>\n",
       "      <th>13</th>\n",
       "      <td>cc</td>\n",
       "      <td>cobertura de nuvens</td>\n",
       "      <td>-</td>\n",
       "    </tr>\n",
       "    <tr>\n",
       "      <th>14</th>\n",
       "      <td>evap</td>\n",
       "      <td>evaporação</td>\n",
       "      <td>mm</td>\n",
       "    </tr>\n",
       "    <tr>\n",
       "      <th>15</th>\n",
       "      <td>ur</td>\n",
       "      <td>umidade relativa</td>\n",
       "      <td>%</td>\n",
       "    </tr>\n",
       "    <tr>\n",
       "      <th>16</th>\n",
       "      <td>ws</td>\n",
       "      <td>velocidade do vento</td>\n",
       "      <td>m/s</td>\n",
       "    </tr>\n",
       "  </tbody>\n",
       "</table>\n",
       "</div>"
      ],
      "text/plain": [
       "   Variável                                  Descrição        Unidade\n",
       "0      date                      data e hora da coleta              -\n",
       "1        id                    ID da estação de coleta              -\n",
       "2      prec                               precipitação             mm\n",
       "3      tair                          temperatura do ar  graus Celsius\n",
       "4        tw                 temperatura de bulbo úmido  graus Celsius\n",
       "5      tmax                   temperatura máxima do ar  graus Celsius\n",
       "6      tmin                   temperatura mínima do ar  graus Celsius\n",
       "7     urmax                    umidade relativa máxima              %\n",
       "8      patm                        pressão atmosférica            hPa\n",
       "9      pnmm  pressão atmosférica média ao nível do mar            hPa\n",
       "10       wd                           direção do vento          graus\n",
       "11    wsmax                           rajadas de vento            m/s\n",
       "12        n                               horas de sol              h\n",
       "13       cc                        cobertura de nuvens              -\n",
       "14    evap                                  evaporação             mm\n",
       "15       ur                           umidade relativa              %\n",
       "16       ws                        velocidade do vento            m/s"
      ]
     },
     "execution_count": 11,
     "metadata": {},
     "output_type": "execute_result"
    }
   ],
   "source": [
    "#Descrição dos atributos da base de dados do INMETRO\n",
    "pd.DataFrame(np.array(data), columns = ['Variável', 'Descrição', 'Unidade'])"
   ]
  },
  {
   "cell_type": "code",
   "execution_count": 93,
   "metadata": {},
   "outputs": [],
   "source": [
    "#Carregando dados de um estado específico\n",
    "df = pd.read_csv('AL.csv')"
   ]
  },
  {
   "cell_type": "code",
   "execution_count": 94,
   "metadata": {},
   "outputs": [
    {
     "data": {
      "text/plain": [
       "Maceió                 46285\n",
       "Palmeira dos Índios    37392\n",
       "Porto de Pedras        29715\n",
       "Pão de Acuçar          27613\n",
       "Coruripe               14375\n",
       "Mata Grande            10957\n",
       "Name: name, dtype: int64"
      ]
     },
     "execution_count": 94,
     "metadata": {},
     "output_type": "execute_result"
    }
   ],
   "source": [
    "#Cidades em que ocorreu coleta de dados do INMETRO\n",
    "df['name'].value_counts()"
   ]
  },
  {
   "cell_type": "code",
   "execution_count": 95,
   "metadata": {},
   "outputs": [],
   "source": [
    "#Limitar dataframe a uma cidade específica\n",
    "df = df[df['name'] == \"Maceió\"]"
   ]
  },
  {
   "cell_type": "code",
   "execution_count": 97,
   "metadata": {},
   "outputs": [],
   "source": [
    "#Criação de features auxiliares com base nas demais\n",
    "df['hour'] = pd.DatetimeIndex(df['date']).hour\n",
    "df['week'] = pd.DatetimeIndex(df['date']).weekofyear\n",
    "df['year'] = pd.DatetimeIndex(df['date']).year\n",
    "\n",
    "#Features criadas com base em Year e weekofyear, os dados nulos são preenchidos pela média dos valores da semana\n",
    "df[\"new_wsmax\"] = df.groupby([\"year\", \"week\"])['wsmax'].transform(lambda x: x.fillna(x.mean()))\n",
    "df[\"new_wd\"] = df.groupby([\"year\", \"week\"])['wd'].transform(lambda x: x.fillna(x.mean()))"
   ]
  },
  {
   "cell_type": "code",
   "execution_count": 98,
   "metadata": {},
   "outputs": [],
   "source": [
    "#Utilizando as datas de coleta como index do dataframe\n",
    "df['date'] = df['date'].apply(pd.to_datetime)\n",
    "df.set_index('date', inplace = True)"
   ]
  },
  {
   "cell_type": "code",
   "execution_count": 99,
   "metadata": {},
   "outputs": [],
   "source": [
    "#Normalizar index para utilizar apenas ano-mês-dia\n",
    "df.index = df.index.normalize()"
   ]
  },
  {
   "cell_type": "code",
   "execution_count": 100,
   "metadata": {},
   "outputs": [],
   "source": [
    "#Novo dataframe que agrega 3 features por dia com base na média ou primeira ocorrencia da feature \n",
    "aggregate_functions = {'new_wd': 'mean', 'new_wsmax' : 'mean', 'ws' : 'first'}\n",
    "df_new = df.groupby(df.index).aggregate(aggregate_functions)"
   ]
  },
  {
   "cell_type": "code",
   "execution_count": 101,
   "metadata": {},
   "outputs": [
    {
     "data": {
      "text/html": [
       "<div>\n",
       "<style scoped>\n",
       "    .dataframe tbody tr th:only-of-type {\n",
       "        vertical-align: middle;\n",
       "    }\n",
       "\n",
       "    .dataframe tbody tr th {\n",
       "        vertical-align: top;\n",
       "    }\n",
       "\n",
       "    .dataframe thead th {\n",
       "        text-align: right;\n",
       "    }\n",
       "</style>\n",
       "<table border=\"1\" class=\"dataframe\">\n",
       "  <thead>\n",
       "    <tr style=\"text-align: right;\">\n",
       "      <th></th>\n",
       "      <th>new_wd</th>\n",
       "      <th>new_wsmax</th>\n",
       "      <th>ws</th>\n",
       "    </tr>\n",
       "    <tr>\n",
       "      <th>date</th>\n",
       "      <th></th>\n",
       "      <th></th>\n",
       "      <th></th>\n",
       "    </tr>\n",
       "  </thead>\n",
       "  <tbody>\n",
       "    <tr>\n",
       "      <th>1961-01-01</th>\n",
       "      <td>9.144928</td>\n",
       "      <td>4.942029</td>\n",
       "      <td>5.000000</td>\n",
       "    </tr>\n",
       "    <tr>\n",
       "      <th>1961-01-02</th>\n",
       "      <td>12.333333</td>\n",
       "      <td>5.333333</td>\n",
       "      <td>5.333333</td>\n",
       "    </tr>\n",
       "    <tr>\n",
       "      <th>1961-01-03</th>\n",
       "      <td>7.666667</td>\n",
       "      <td>5.333333</td>\n",
       "      <td>5.333333</td>\n",
       "    </tr>\n",
       "    <tr>\n",
       "      <th>1961-01-04</th>\n",
       "      <td>7.666667</td>\n",
       "      <td>5.333333</td>\n",
       "      <td>6.000000</td>\n",
       "    </tr>\n",
       "    <tr>\n",
       "      <th>1961-01-05</th>\n",
       "      <td>7.666667</td>\n",
       "      <td>5.333333</td>\n",
       "      <td>4.000000</td>\n",
       "    </tr>\n",
       "  </tbody>\n",
       "</table>\n",
       "</div>"
      ],
      "text/plain": [
       "               new_wd  new_wsmax        ws\n",
       "date                                      \n",
       "1961-01-01   9.144928   4.942029  5.000000\n",
       "1961-01-02  12.333333   5.333333  5.333333\n",
       "1961-01-03   7.666667   5.333333  5.333333\n",
       "1961-01-04   7.666667   5.333333  6.000000\n",
       "1961-01-05   7.666667   5.333333  4.000000"
      ]
     },
     "execution_count": 101,
     "metadata": {},
     "output_type": "execute_result"
    }
   ],
   "source": [
    "df_new.head()"
   ]
  },
  {
   "cell_type": "code",
   "execution_count": 102,
   "metadata": {},
   "outputs": [
    {
     "name": "stdout",
     "output_type": "stream",
     "text": [
      "<class 'pandas.core.frame.DataFrame'>\n",
      "DatetimeIndex: 15503 entries, 1961-01-01 to 2018-12-31\n",
      "Data columns (total 3 columns):\n",
      "new_wd       11991 non-null float64\n",
      "new_wsmax    11977 non-null float64\n",
      "ws           11703 non-null float64\n",
      "dtypes: float64(3)\n",
      "memory usage: 484.5 KB\n"
     ]
    }
   ],
   "source": [
    "df_new.info()"
   ]
  },
  {
   "cell_type": "code",
   "execution_count": 110,
   "metadata": {},
   "outputs": [],
   "source": [
    "#Range de datas contendo dados a serem plotados\n",
    "df_plot = df_new.loc['1986-01-01':'1994-01-01']"
   ]
  },
  {
   "cell_type": "code",
   "execution_count": 111,
   "metadata": {},
   "outputs": [
    {
     "data": {
      "image/png": "[encoded data removed]",
      "text/plain": [
       "<Figure size 720x288 with 1 Axes>"
      ]
     },
     "metadata": {},
     "output_type": "display_data"
    }
   ],
   "source": [
    "x = 2\n",
    "plt.figure(figsize=(10,4))\n",
    "df_plot[df_plot.columns[x]].plot(style = 'b.-', label= df_plot.columns[x])\n",
    "plt.legend(loc='upper left')\n",
    "plt.title('Maceió - AL')\n",
    "plt.ylabel(\"ws m/s\")\n",
    "plt.show()"
   ]
  }
 ],
 "metadata": {
  "kernelspec": {
   "display_name": "Python 3",
   "language": "python",
   "name": "python3"
  },
  "language_info": {
   "codemirror_mode": {
    "name": "ipython",
    "version": 3
   },
   "file_extension": ".py",
   "mimetype": "text/x-python",
   "name": "python",
   "nbconvert_exporter": "python",
   "pygments_lexer": "ipython3",
   "version": "3.6.5"
  }
 },
 "nbformat": 4,
 "nbformat_minor": 2
}
